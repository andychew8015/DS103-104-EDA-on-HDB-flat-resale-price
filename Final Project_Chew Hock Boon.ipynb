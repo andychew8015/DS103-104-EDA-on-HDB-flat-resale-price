{
 "cells": [
  {
   "cell_type": "markdown",
   "metadata": {},
   "source": [
    "### Introduction\n",
    "#### About 80% of Singaporeans stay in a HDB flat. Since the first introduction of the cooling measure in 2010, HDB resale flat price has been quite stabilize. Let see if we can forecast how the HDB resale price will be moving just by visualizing the data collected from past years."
   ]
  },
  {
   "cell_type": "markdown",
   "metadata": {},
   "source": [
    "### Objective\n",
    "#### - Compare the variables in the data and see if it  affect the resale pricing.\n",
    "#### - How location affect the resale pricing?\n",
    "#### - Which town has the most transaction and why?\n",
    "#### - What is the market trend like for the past years?\n",
    "#### - Finally what do we expect the market trend to be like for 2021?"
   ]
  },
  {
   "cell_type": "markdown",
   "metadata": {},
   "source": [
    "### CHALLENGE:"
   ]
  },
  {
   "cell_type": "markdown",
   "metadata": {},
   "source": [
    "#### - To convert the values in column ‘remaining_lease’ from string to float so that we can do some calculation.\n",
    "#### - To get the geolocation of each flat transacted and MRT station using New OneMap API Docs.\n",
    "#### - To get the estimated travelling time from each town to Shenton Way (Raffles Place MRT station)."
   ]
  },
  {
   "cell_type": "code",
   "execution_count": 315,
   "metadata": {},
   "outputs": [],
   "source": [
    "import pandas as pd\n",
    "import numpy as np\n",
    "import matplotlib.pyplot as plt\n",
    "import seaborn as sns\n",
    "from geopy.distance import geodesic\n",
    "%matplotlib inline"
   ]
  },
  {
   "cell_type": "markdown",
   "metadata": {},
   "source": [
    "### Read and do some basic prepareation of  the data"
   ]
  },
  {
   "cell_type": "code",
   "execution_count": 316,
   "metadata": {
    "scrolled": false
   },
   "outputs": [
    {
     "data": {
      "text/html": [
       "<div>\n",
       "<style scoped>\n",
       "    .dataframe tbody tr th:only-of-type {\n",
       "        vertical-align: middle;\n",
       "    }\n",
       "\n",
       "    .dataframe tbody tr th {\n",
       "        vertical-align: top;\n",
       "    }\n",
       "\n",
       "    .dataframe thead th {\n",
       "        text-align: right;\n",
       "    }\n",
       "</style>\n",
       "<table border=\"1\" class=\"dataframe\">\n",
       "  <thead>\n",
       "    <tr style=\"text-align: right;\">\n",
       "      <th></th>\n",
       "      <th>town</th>\n",
       "      <th>flat_type</th>\n",
       "      <th>block</th>\n",
       "      <th>street_name</th>\n",
       "      <th>storey_range</th>\n",
       "      <th>floor_area_sqm</th>\n",
       "      <th>flat_model</th>\n",
       "      <th>lease_commence_date</th>\n",
       "      <th>remaining_lease</th>\n",
       "      <th>resale_price</th>\n",
       "    </tr>\n",
       "    <tr>\n",
       "      <th>registration_date</th>\n",
       "      <th></th>\n",
       "      <th></th>\n",
       "      <th></th>\n",
       "      <th></th>\n",
       "      <th></th>\n",
       "      <th></th>\n",
       "      <th></th>\n",
       "      <th></th>\n",
       "      <th></th>\n",
       "      <th></th>\n",
       "    </tr>\n",
       "  </thead>\n",
       "  <tbody>\n",
       "    <tr>\n",
       "      <th>2017-01-01</th>\n",
       "      <td>ANG MO KIO</td>\n",
       "      <td>2 ROOM</td>\n",
       "      <td>406</td>\n",
       "      <td>ANG MO KIO AVE 10</td>\n",
       "      <td>10 TO 12</td>\n",
       "      <td>44.0</td>\n",
       "      <td>Improved</td>\n",
       "      <td>1979</td>\n",
       "      <td>61 years 04 months</td>\n",
       "      <td>232000.0</td>\n",
       "    </tr>\n",
       "    <tr>\n",
       "      <th>2017-01-01</th>\n",
       "      <td>ANG MO KIO</td>\n",
       "      <td>3 ROOM</td>\n",
       "      <td>108</td>\n",
       "      <td>ANG MO KIO AVE 4</td>\n",
       "      <td>01 TO 03</td>\n",
       "      <td>67.0</td>\n",
       "      <td>New Generation</td>\n",
       "      <td>1978</td>\n",
       "      <td>60 years 07 months</td>\n",
       "      <td>250000.0</td>\n",
       "    </tr>\n",
       "    <tr>\n",
       "      <th>2017-01-01</th>\n",
       "      <td>ANG MO KIO</td>\n",
       "      <td>3 ROOM</td>\n",
       "      <td>602</td>\n",
       "      <td>ANG MO KIO AVE 5</td>\n",
       "      <td>01 TO 03</td>\n",
       "      <td>67.0</td>\n",
       "      <td>New Generation</td>\n",
       "      <td>1980</td>\n",
       "      <td>62 years 05 months</td>\n",
       "      <td>262000.0</td>\n",
       "    </tr>\n",
       "    <tr>\n",
       "      <th>2017-01-01</th>\n",
       "      <td>ANG MO KIO</td>\n",
       "      <td>3 ROOM</td>\n",
       "      <td>465</td>\n",
       "      <td>ANG MO KIO AVE 10</td>\n",
       "      <td>04 TO 06</td>\n",
       "      <td>68.0</td>\n",
       "      <td>New Generation</td>\n",
       "      <td>1980</td>\n",
       "      <td>62 years 01 month</td>\n",
       "      <td>265000.0</td>\n",
       "    </tr>\n",
       "    <tr>\n",
       "      <th>2017-01-01</th>\n",
       "      <td>ANG MO KIO</td>\n",
       "      <td>3 ROOM</td>\n",
       "      <td>601</td>\n",
       "      <td>ANG MO KIO AVE 5</td>\n",
       "      <td>01 TO 03</td>\n",
       "      <td>67.0</td>\n",
       "      <td>New Generation</td>\n",
       "      <td>1980</td>\n",
       "      <td>62 years 05 months</td>\n",
       "      <td>265000.0</td>\n",
       "    </tr>\n",
       "  </tbody>\n",
       "</table>\n",
       "</div>"
      ],
      "text/plain": [
       "                         town flat_type block        street_name storey_range  \\\n",
       "registration_date                                                               \n",
       "2017-01-01         ANG MO KIO    2 ROOM   406  ANG MO KIO AVE 10     10 TO 12   \n",
       "2017-01-01         ANG MO KIO    3 ROOM   108   ANG MO KIO AVE 4     01 TO 03   \n",
       "2017-01-01         ANG MO KIO    3 ROOM   602   ANG MO KIO AVE 5     01 TO 03   \n",
       "2017-01-01         ANG MO KIO    3 ROOM   465  ANG MO KIO AVE 10     04 TO 06   \n",
       "2017-01-01         ANG MO KIO    3 ROOM   601   ANG MO KIO AVE 5     01 TO 03   \n",
       "\n",
       "                   floor_area_sqm      flat_model  lease_commence_date  \\\n",
       "registration_date                                                        \n",
       "2017-01-01                   44.0        Improved                 1979   \n",
       "2017-01-01                   67.0  New Generation                 1978   \n",
       "2017-01-01                   67.0  New Generation                 1980   \n",
       "2017-01-01                   68.0  New Generation                 1980   \n",
       "2017-01-01                   67.0  New Generation                 1980   \n",
       "\n",
       "                      remaining_lease  resale_price  \n",
       "registration_date                                    \n",
       "2017-01-01         61 years 04 months      232000.0  \n",
       "2017-01-01         60 years 07 months      250000.0  \n",
       "2017-01-01         62 years 05 months      262000.0  \n",
       "2017-01-01          62 years 01 month      265000.0  \n",
       "2017-01-01         62 years 05 months      265000.0  "
      ]
     },
     "execution_count": 316,
     "metadata": {},
     "output_type": "execute_result"
    }
   ],
   "source": [
    "df = pd.read_csv('Resale Flat Price.csv', index_col='month',  # convert 'month' to timestamp and set as index\n",
    "                 parse_dates=True)                            \n",
    "df.index.names = ['registration_date']                        # change index name\n",
    "df.head()"
   ]
  },
  {
   "cell_type": "code",
   "execution_count": 317,
   "metadata": {},
   "outputs": [
    {
     "data": {
      "text/html": [
       "<div>\n",
       "<style scoped>\n",
       "    .dataframe tbody tr th:only-of-type {\n",
       "        vertical-align: middle;\n",
       "    }\n",
       "\n",
       "    .dataframe tbody tr th {\n",
       "        vertical-align: top;\n",
       "    }\n",
       "\n",
       "    .dataframe thead th {\n",
       "        text-align: right;\n",
       "    }\n",
       "</style>\n",
       "<table border=\"1\" class=\"dataframe\">\n",
       "  <thead>\n",
       "    <tr style=\"text-align: right;\">\n",
       "      <th></th>\n",
       "      <th>town</th>\n",
       "      <th>flat_type</th>\n",
       "      <th>block</th>\n",
       "      <th>street_name</th>\n",
       "      <th>storey_range</th>\n",
       "      <th>floor_area_sqm</th>\n",
       "      <th>flat_model</th>\n",
       "      <th>lease_commence_date</th>\n",
       "      <th>remaining_lease</th>\n",
       "      <th>resale_price</th>\n",
       "    </tr>\n",
       "    <tr>\n",
       "      <th>registration_date</th>\n",
       "      <th></th>\n",
       "      <th></th>\n",
       "      <th></th>\n",
       "      <th></th>\n",
       "      <th></th>\n",
       "      <th></th>\n",
       "      <th></th>\n",
       "      <th></th>\n",
       "      <th></th>\n",
       "      <th></th>\n",
       "    </tr>\n",
       "  </thead>\n",
       "  <tbody>\n",
       "    <tr>\n",
       "      <th>2021-01-01</th>\n",
       "      <td>YISHUN</td>\n",
       "      <td>EXECUTIVE</td>\n",
       "      <td>643</td>\n",
       "      <td>YISHUN ST 61</td>\n",
       "      <td>04 TO 06</td>\n",
       "      <td>146.0</td>\n",
       "      <td>Maisonette</td>\n",
       "      <td>1987</td>\n",
       "      <td>65 years 08 months</td>\n",
       "      <td>590000.0</td>\n",
       "    </tr>\n",
       "    <tr>\n",
       "      <th>2021-01-01</th>\n",
       "      <td>YISHUN</td>\n",
       "      <td>EXECUTIVE</td>\n",
       "      <td>724</td>\n",
       "      <td>YISHUN ST 71</td>\n",
       "      <td>10 TO 12</td>\n",
       "      <td>146.0</td>\n",
       "      <td>Maisonette</td>\n",
       "      <td>1986</td>\n",
       "      <td>64 years 07 months</td>\n",
       "      <td>588000.0</td>\n",
       "    </tr>\n",
       "    <tr>\n",
       "      <th>2021-01-01</th>\n",
       "      <td>YISHUN</td>\n",
       "      <td>EXECUTIVE</td>\n",
       "      <td>834</td>\n",
       "      <td>YISHUN ST 81</td>\n",
       "      <td>04 TO 06</td>\n",
       "      <td>142.0</td>\n",
       "      <td>Apartment</td>\n",
       "      <td>1988</td>\n",
       "      <td>66 years</td>\n",
       "      <td>670000.0</td>\n",
       "    </tr>\n",
       "    <tr>\n",
       "      <th>2021-01-01</th>\n",
       "      <td>YISHUN</td>\n",
       "      <td>EXECUTIVE</td>\n",
       "      <td>877</td>\n",
       "      <td>YISHUN ST 81</td>\n",
       "      <td>07 TO 09</td>\n",
       "      <td>142.0</td>\n",
       "      <td>Apartment</td>\n",
       "      <td>1987</td>\n",
       "      <td>65 years 11 months</td>\n",
       "      <td>690000.0</td>\n",
       "    </tr>\n",
       "    <tr>\n",
       "      <th>2021-01-01</th>\n",
       "      <td>YISHUN</td>\n",
       "      <td>MULTI-GENERATION</td>\n",
       "      <td>666</td>\n",
       "      <td>YISHUN AVE 4</td>\n",
       "      <td>10 TO 12</td>\n",
       "      <td>179.0</td>\n",
       "      <td>Multi Generation</td>\n",
       "      <td>1987</td>\n",
       "      <td>66 years</td>\n",
       "      <td>860000.0</td>\n",
       "    </tr>\n",
       "  </tbody>\n",
       "</table>\n",
       "</div>"
      ],
      "text/plain": [
       "                     town         flat_type block   street_name storey_range  \\\n",
       "registration_date                                                              \n",
       "2021-01-01         YISHUN         EXECUTIVE   643  YISHUN ST 61     04 TO 06   \n",
       "2021-01-01         YISHUN         EXECUTIVE   724  YISHUN ST 71     10 TO 12   \n",
       "2021-01-01         YISHUN         EXECUTIVE   834  YISHUN ST 81     04 TO 06   \n",
       "2021-01-01         YISHUN         EXECUTIVE   877  YISHUN ST 81     07 TO 09   \n",
       "2021-01-01         YISHUN  MULTI-GENERATION   666  YISHUN AVE 4     10 TO 12   \n",
       "\n",
       "                   floor_area_sqm        flat_model  lease_commence_date  \\\n",
       "registration_date                                                          \n",
       "2021-01-01                  146.0        Maisonette                 1987   \n",
       "2021-01-01                  146.0        Maisonette                 1986   \n",
       "2021-01-01                  142.0         Apartment                 1988   \n",
       "2021-01-01                  142.0         Apartment                 1987   \n",
       "2021-01-01                  179.0  Multi Generation                 1987   \n",
       "\n",
       "                      remaining_lease  resale_price  \n",
       "registration_date                                    \n",
       "2021-01-01         65 years 08 months      590000.0  \n",
       "2021-01-01         64 years 07 months      588000.0  \n",
       "2021-01-01                   66 years      670000.0  \n",
       "2021-01-01         65 years 11 months      690000.0  \n",
       "2021-01-01                   66 years      860000.0  "
      ]
     },
     "execution_count": 317,
     "metadata": {},
     "output_type": "execute_result"
    }
   ],
   "source": [
    "df.tail()"
   ]
  },
  {
   "cell_type": "markdown",
   "metadata": {},
   "source": [
    "#### Convert 'remaining_lease' from string to float."
   ]
  },
  {
   "cell_type": "code",
   "execution_count": 318,
   "metadata": {},
   "outputs": [],
   "source": [
    "remaining_lease= [[float(i) for i in item.split() if i.isdigit()] for item in df.remaining_lease]"
   ]
  },
  {
   "cell_type": "code",
   "execution_count": 319,
   "metadata": {},
   "outputs": [],
   "source": [
    "for i in range(len(remaining_lease)):\n",
    "    if len(remaining_lease[i]) == 2:\n",
    "        remaining_lease[i] = round(remaining_lease[i][0]+(remaining_lease[i][1]/12), 2)\n",
    "    else:\n",
    "        remaining_lease[i] = remaining_lease[i][0]"
   ]
  },
  {
   "cell_type": "code",
   "execution_count": 320,
   "metadata": {
    "scrolled": true
   },
   "outputs": [
    {
     "data": {
      "text/html": [
       "<div>\n",
       "<style scoped>\n",
       "    .dataframe tbody tr th:only-of-type {\n",
       "        vertical-align: middle;\n",
       "    }\n",
       "\n",
       "    .dataframe tbody tr th {\n",
       "        vertical-align: top;\n",
       "    }\n",
       "\n",
       "    .dataframe thead th {\n",
       "        text-align: right;\n",
       "    }\n",
       "</style>\n",
       "<table border=\"1\" class=\"dataframe\">\n",
       "  <thead>\n",
       "    <tr style=\"text-align: right;\">\n",
       "      <th></th>\n",
       "      <th>town</th>\n",
       "      <th>flat_type</th>\n",
       "      <th>block</th>\n",
       "      <th>street_name</th>\n",
       "      <th>storey_range</th>\n",
       "      <th>floor_area_sqm</th>\n",
       "      <th>flat_model</th>\n",
       "      <th>lease_commence_date</th>\n",
       "      <th>remaining_lease</th>\n",
       "      <th>resale_price</th>\n",
       "    </tr>\n",
       "    <tr>\n",
       "      <th>registration_date</th>\n",
       "      <th></th>\n",
       "      <th></th>\n",
       "      <th></th>\n",
       "      <th></th>\n",
       "      <th></th>\n",
       "      <th></th>\n",
       "      <th></th>\n",
       "      <th></th>\n",
       "      <th></th>\n",
       "      <th></th>\n",
       "    </tr>\n",
       "  </thead>\n",
       "  <tbody>\n",
       "    <tr>\n",
       "      <th>2017-01-01</th>\n",
       "      <td>ANG MO KIO</td>\n",
       "      <td>2 ROOM</td>\n",
       "      <td>406</td>\n",
       "      <td>ANG MO KIO AVE 10</td>\n",
       "      <td>10 TO 12</td>\n",
       "      <td>44.0</td>\n",
       "      <td>Improved</td>\n",
       "      <td>1979</td>\n",
       "      <td>61.33</td>\n",
       "      <td>232000.0</td>\n",
       "    </tr>\n",
       "    <tr>\n",
       "      <th>2017-01-01</th>\n",
       "      <td>ANG MO KIO</td>\n",
       "      <td>3 ROOM</td>\n",
       "      <td>108</td>\n",
       "      <td>ANG MO KIO AVE 4</td>\n",
       "      <td>01 TO 03</td>\n",
       "      <td>67.0</td>\n",
       "      <td>New Generation</td>\n",
       "      <td>1978</td>\n",
       "      <td>60.58</td>\n",
       "      <td>250000.0</td>\n",
       "    </tr>\n",
       "  </tbody>\n",
       "</table>\n",
       "</div>"
      ],
      "text/plain": [
       "                         town flat_type block        street_name storey_range  \\\n",
       "registration_date                                                               \n",
       "2017-01-01         ANG MO KIO    2 ROOM   406  ANG MO KIO AVE 10     10 TO 12   \n",
       "2017-01-01         ANG MO KIO    3 ROOM   108   ANG MO KIO AVE 4     01 TO 03   \n",
       "\n",
       "                   floor_area_sqm      flat_model  lease_commence_date  \\\n",
       "registration_date                                                        \n",
       "2017-01-01                   44.0        Improved                 1979   \n",
       "2017-01-01                   67.0  New Generation                 1978   \n",
       "\n",
       "                   remaining_lease  resale_price  \n",
       "registration_date                                 \n",
       "2017-01-01                   61.33      232000.0  \n",
       "2017-01-01                   60.58      250000.0  "
      ]
     },
     "execution_count": 320,
     "metadata": {},
     "output_type": "execute_result"
    }
   ],
   "source": [
    "df.remaining_lease = remaining_lease\n",
    "df.head(2)                          # check if convert correctly"
   ]
  },
  {
   "cell_type": "markdown",
   "metadata": {},
   "source": [
    "#### Take a look at the number of transaction."
   ]
  },
  {
   "cell_type": "code",
   "execution_count": 321,
   "metadata": {
    "scrolled": true
   },
   "outputs": [
    {
     "data": {
      "image/png": "[encoded data removed]",
      "text/plain": [
       "<Figure size 432x288 with 1 Axes>"
      ]
     },
     "metadata": {
      "needs_background": "light"
     },
     "output_type": "display_data"
    }
   ],
   "source": [
    "sns.histplot(data=df, x='flat_type')\n",
    "plt.xticks(rotation=50)\n",
    "plt.show()"
   ]
  },
  {
   "cell_type": "markdown",
   "metadata": {},
   "source": [
    "#### Remove 'flat_type' (2 room, 1 room, Multi-Generation) as not much transactions for these flat type."
   ]
  },
  {
   "cell_type": "code",
   "execution_count": 322,
   "metadata": {
    "scrolled": true
   },
   "outputs": [
    {
     "data": {
      "text/plain": [
       "array(['3 ROOM', '4 ROOM', '5 ROOM', 'EXECUTIVE'], dtype=object)"
      ]
     },
     "execution_count": 322,
     "metadata": {},
     "output_type": "execute_result"
    }
   ],
   "source": [
    "df = df[(df.flat_type!='1 ROOM') & (df.flat_type!='2 ROOM') & (df.flat_type!='MULTI-GENERATION')]\n",
    "\n",
    "df.flat_type.unique()                # check if removed successfully"
   ]
  },
  {
   "cell_type": "markdown",
   "metadata": {},
   "source": [
    "#### Remove data for Jan 2021 as only 1 month of information."
   ]
  },
  {
   "cell_type": "code",
   "execution_count": 323,
   "metadata": {},
   "outputs": [],
   "source": [
    "df_2021 = df.loc['2021']           # keep a copy for further comparision"
   ]
  },
  {
   "cell_type": "code",
   "execution_count": 324,
   "metadata": {},
   "outputs": [
    {
     "data": {
      "text/html": [
       "<div>\n",
       "<style scoped>\n",
       "    .dataframe tbody tr th:only-of-type {\n",
       "        vertical-align: middle;\n",
       "    }\n",
       "\n",
       "    .dataframe tbody tr th {\n",
       "        vertical-align: top;\n",
       "    }\n",
       "\n",
       "    .dataframe thead th {\n",
       "        text-align: right;\n",
       "    }\n",
       "</style>\n",
       "<table border=\"1\" class=\"dataframe\">\n",
       "  <thead>\n",
       "    <tr style=\"text-align: right;\">\n",
       "      <th></th>\n",
       "      <th>town</th>\n",
       "      <th>flat_type</th>\n",
       "      <th>block</th>\n",
       "      <th>street_name</th>\n",
       "      <th>storey_range</th>\n",
       "      <th>floor_area_sqm</th>\n",
       "      <th>flat_model</th>\n",
       "      <th>lease_commence_date</th>\n",
       "      <th>remaining_lease</th>\n",
       "      <th>resale_price</th>\n",
       "    </tr>\n",
       "    <tr>\n",
       "      <th>registration_date</th>\n",
       "      <th></th>\n",
       "      <th></th>\n",
       "      <th></th>\n",
       "      <th></th>\n",
       "      <th></th>\n",
       "      <th></th>\n",
       "      <th></th>\n",
       "      <th></th>\n",
       "      <th></th>\n",
       "      <th></th>\n",
       "    </tr>\n",
       "  </thead>\n",
       "  <tbody>\n",
       "    <tr>\n",
       "      <th>2020-12-01</th>\n",
       "      <td>YISHUN</td>\n",
       "      <td>EXECUTIVE</td>\n",
       "      <td>834</td>\n",
       "      <td>YISHUN ST 81</td>\n",
       "      <td>10 TO 12</td>\n",
       "      <td>146.0</td>\n",
       "      <td>Maisonette</td>\n",
       "      <td>1988</td>\n",
       "      <td>66.17</td>\n",
       "      <td>683500.0</td>\n",
       "    </tr>\n",
       "    <tr>\n",
       "      <th>2020-12-01</th>\n",
       "      <td>YISHUN</td>\n",
       "      <td>EXECUTIVE</td>\n",
       "      <td>824</td>\n",
       "      <td>YISHUN ST 81</td>\n",
       "      <td>07 TO 09</td>\n",
       "      <td>142.0</td>\n",
       "      <td>Apartment</td>\n",
       "      <td>1987</td>\n",
       "      <td>65.92</td>\n",
       "      <td>670000.0</td>\n",
       "    </tr>\n",
       "  </tbody>\n",
       "</table>\n",
       "</div>"
      ],
      "text/plain": [
       "                     town  flat_type block   street_name storey_range  \\\n",
       "registration_date                                                       \n",
       "2020-12-01         YISHUN  EXECUTIVE   834  YISHUN ST 81     10 TO 12   \n",
       "2020-12-01         YISHUN  EXECUTIVE   824  YISHUN ST 81     07 TO 09   \n",
       "\n",
       "                   floor_area_sqm  flat_model  lease_commence_date  \\\n",
       "registration_date                                                    \n",
       "2020-12-01                  146.0  Maisonette                 1988   \n",
       "2020-12-01                  142.0   Apartment                 1987   \n",
       "\n",
       "                   remaining_lease  resale_price  \n",
       "registration_date                                 \n",
       "2020-12-01                   66.17      683500.0  \n",
       "2020-12-01                   65.92      670000.0  "
      ]
     },
     "execution_count": 324,
     "metadata": {},
     "output_type": "execute_result"
    }
   ],
   "source": [
    "# drop data for Jan 2021\n",
    "df = df[df.index != '2021']\n",
    "df.tail(2)                         #check if dropped sucessfully"
   ]
  },
  {
   "cell_type": "code",
   "execution_count": 325,
   "metadata": {
    "scrolled": true
   },
   "outputs": [
    {
     "data": {
      "text/plain": [
       "(86201, 10)"
      ]
     },
     "execution_count": 325,
     "metadata": {},
     "output_type": "execute_result"
    }
   ],
   "source": [
    "df.shape               # final data size"
   ]
  },
  {
   "cell_type": "markdown",
   "metadata": {},
   "source": [
    "### Relationship between price and other variables"
   ]
  },
  {
   "cell_type": "code",
   "execution_count": 326,
   "metadata": {},
   "outputs": [
    {
     "data": {
      "image/png": "[encoded data removed]",
      "text/plain": [
       "<Figure size 432x288 with 2 Axes>"
      ]
     },
     "metadata": {
      "needs_background": "light"
     },
     "output_type": "display_data"
    }
   ],
   "source": [
    "sns.heatmap(df.corr(), annot=True)\n",
    "\n",
    "plt.show()"
   ]
  },
  {
   "cell_type": "markdown",
   "metadata": {},
   "source": [
    "#### There is a positive relationship between those numerical variables and the resale price. What about those categorical variables?"
   ]
  },
  {
   "cell_type": "markdown",
   "metadata": {},
   "source": [
    "#### Town vs resale price:"
   ]
  },
  {
   "cell_type": "code",
   "execution_count": 327,
   "metadata": {},
   "outputs": [
    {
     "data": {
      "image/png": "[encoded data removed]",
      "text/plain": [
       "<Figure size 864x432 with 1 Axes>"
      ]
     },
     "metadata": {
      "needs_background": "light"
     },
     "output_type": "display_data"
    }
   ],
   "source": [
    "plt.figure(figsize=(12, 6))\n",
    "sns.boxplot(x='town', y='resale_price', data=df, palette='rainbow')\n",
    "plt.xticks(rotation=90)\n",
    "plt.ylabel('resale price(in millions)')\n",
    "plt.show()"
   ]
  },
  {
   "cell_type": "markdown",
   "metadata": {},
   "source": [
    "#### The median price varies across the town and there are a lot of outlier in some town. This might because of the different flat type, flat model, location."
   ]
  },
  {
   "cell_type": "markdown",
   "metadata": {},
   "source": [
    "#### Flat type vs resale price"
   ]
  },
  {
   "cell_type": "code",
   "execution_count": 328,
   "metadata": {},
   "outputs": [
    {
     "data": {
      "image/png": "[encoded data removed]",
      "text/plain": [
       "<Figure size 864x432 with 1 Axes>"
      ]
     },
     "metadata": {
      "needs_background": "light"
     },
     "output_type": "display_data"
    }
   ],
   "source": [
    "plt.figure(figsize=(12,6))\n",
    "sns.violinplot(x=df.flat_type, y=df.resale_price, data=df)\n",
    "plt.ylabel('resale price(in millions)')\n",
    "\n",
    "plt.show()"
   ]
  },
  {
   "cell_type": "markdown",
   "metadata": {},
   "source": [
    "#### There is a positive relationship between flat type and resale price. Most of the price for each flat type are around the median price. The outlier might because of flat model, location within the town."
   ]
  },
  {
   "cell_type": "markdown",
   "metadata": {},
   "source": [
    "#### Storey range vs resale price:"
   ]
  },
  {
   "cell_type": "code",
   "execution_count": 329,
   "metadata": {},
   "outputs": [],
   "source": [
    "storey_range = df.groupby('storey_range')[['resale_price']].median()"
   ]
  },
  {
   "cell_type": "code",
   "execution_count": 330,
   "metadata": {},
   "outputs": [
    {
     "data": {
      "image/png": "[encoded data removed]",
      "text/plain": [
       "<Figure size 864x432 with 1 Axes>"
      ]
     },
     "metadata": {
      "needs_background": "light"
     },
     "output_type": "display_data"
    }
   ],
   "source": [
    "plt.figure(figsize=(12,6))\n",
    "sns.barplot(x=storey_range.index, y='resale_price', data=storey_range)\n",
    "plt.xticks(rotation=50)\n",
    "plt.ylabel('resale price(in millions)')\n",
    "\n",
    "plt.show()"
   ]
  },
  {
   "cell_type": "markdown",
   "metadata": {},
   "source": [
    "#### There is a strong positive relationship between storey range and resale price. This might because of the view from the flat. "
   ]
  },
  {
   "cell_type": "markdown",
   "metadata": {},
   "source": [
    "#### Flat Model vs resale price:"
   ]
  },
  {
   "cell_type": "code",
   "execution_count": 331,
   "metadata": {},
   "outputs": [
    {
     "data": {
      "image/png": "[encoded data removed]",
      "text/plain": [
       "<Figure size 864x432 with 1 Axes>"
      ]
     },
     "metadata": {
      "needs_background": "light"
     },
     "output_type": "display_data"
    }
   ],
   "source": [
    "plt.figure(figsize=(12,6))\n",
    "plt.xticks(rotation=90)\n",
    "sns.stripplot(x='flat_model', y='resale_price', hue='flat_type', data=df)\n",
    "plt.ylabel('resale price(in millions)')\n",
    "\n",
    "plt.show()"
   ]
  },
  {
   "cell_type": "markdown",
   "metadata": {},
   "source": [
    "#### The resale price varies between different flat model. This might because differant flat model has different the floor area. "
   ]
  },
  {
   "cell_type": "markdown",
   "metadata": {},
   "source": [
    "#### So it seems like almost all variables have an impact on the resale pricing."
   ]
  },
  {
   "cell_type": "markdown",
   "metadata": {},
   "source": [
    "### How location can affect the resale price:"
   ]
  },
  {
   "cell_type": "markdown",
   "metadata": {},
   "source": [
    "### Distance to downtown - Shenton Way (Raffles MRT station) vs price:"
   ]
  },
  {
   "cell_type": "code",
   "execution_count": 332,
   "metadata": {},
   "outputs": [],
   "source": [
    "# load and read the data we create manually on the estimated time from each town to shenton way(Raffles MRT)\n",
    "travel_time = pd.read_excel('travel time.xlsx')"
   ]
  },
  {
   "cell_type": "code",
   "execution_count": 333,
   "metadata": {},
   "outputs": [
    {
     "data": {
      "text/html": [
       "<div>\n",
       "<style scoped>\n",
       "    .dataframe tbody tr th:only-of-type {\n",
       "        vertical-align: middle;\n",
       "    }\n",
       "\n",
       "    .dataframe tbody tr th {\n",
       "        vertical-align: top;\n",
       "    }\n",
       "\n",
       "    .dataframe thead th {\n",
       "        text-align: right;\n",
       "    }\n",
       "</style>\n",
       "<table border=\"1\" class=\"dataframe\">\n",
       "  <thead>\n",
       "    <tr style=\"text-align: right;\">\n",
       "      <th></th>\n",
       "      <th>town</th>\n",
       "      <th>time_min</th>\n",
       "    </tr>\n",
       "  </thead>\n",
       "  <tbody>\n",
       "    <tr>\n",
       "      <th>0</th>\n",
       "      <td>ANG MO KIO</td>\n",
       "      <td>17</td>\n",
       "    </tr>\n",
       "    <tr>\n",
       "      <th>1</th>\n",
       "      <td>BEDOK</td>\n",
       "      <td>18</td>\n",
       "    </tr>\n",
       "  </tbody>\n",
       "</table>\n",
       "</div>"
      ],
      "text/plain": [
       "         town  time_min\n",
       "0  ANG MO KIO        17\n",
       "1       BEDOK        18"
      ]
     },
     "execution_count": 333,
     "metadata": {},
     "output_type": "execute_result"
    }
   ],
   "source": [
    "travel_time.head(2)"
   ]
  },
  {
   "cell_type": "code",
   "execution_count": 334,
   "metadata": {},
   "outputs": [],
   "source": [
    "# groupby 'town' with 'resale_price'\n",
    "town = df.groupby('town')[['resale_price']].median()"
   ]
  },
  {
   "cell_type": "code",
   "execution_count": 335,
   "metadata": {},
   "outputs": [
    {
     "data": {
      "text/html": [
       "<div>\n",
       "<style scoped>\n",
       "    .dataframe tbody tr th:only-of-type {\n",
       "        vertical-align: middle;\n",
       "    }\n",
       "\n",
       "    .dataframe tbody tr th {\n",
       "        vertical-align: top;\n",
       "    }\n",
       "\n",
       "    .dataframe thead th {\n",
       "        text-align: right;\n",
       "    }\n",
       "</style>\n",
       "<table border=\"1\" class=\"dataframe\">\n",
       "  <thead>\n",
       "    <tr style=\"text-align: right;\">\n",
       "      <th></th>\n",
       "      <th>resale_price</th>\n",
       "    </tr>\n",
       "    <tr>\n",
       "      <th>town</th>\n",
       "      <th></th>\n",
       "    </tr>\n",
       "  </thead>\n",
       "  <tbody>\n",
       "    <tr>\n",
       "      <th>ANG MO KIO</th>\n",
       "      <td>350000.0</td>\n",
       "    </tr>\n",
       "    <tr>\n",
       "      <th>BEDOK</th>\n",
       "      <td>368000.0</td>\n",
       "    </tr>\n",
       "  </tbody>\n",
       "</table>\n",
       "</div>"
      ],
      "text/plain": [
       "            resale_price\n",
       "town                    \n",
       "ANG MO KIO      350000.0\n",
       "BEDOK           368000.0"
      ]
     },
     "execution_count": 335,
     "metadata": {},
     "output_type": "execute_result"
    }
   ],
   "source": [
    "town.head(2)"
   ]
  },
  {
   "cell_type": "code",
   "execution_count": 336,
   "metadata": {},
   "outputs": [],
   "source": [
    "# merge town with travel_time\n",
    "town = pd.merge(town, travel_time, how='left', left_on=['town'], right_on=['town']) "
   ]
  },
  {
   "cell_type": "code",
   "execution_count": 337,
   "metadata": {},
   "outputs": [
    {
     "data": {
      "text/html": [
       "<div>\n",
       "<style scoped>\n",
       "    .dataframe tbody tr th:only-of-type {\n",
       "        vertical-align: middle;\n",
       "    }\n",
       "\n",
       "    .dataframe tbody tr th {\n",
       "        vertical-align: top;\n",
       "    }\n",
       "\n",
       "    .dataframe thead th {\n",
       "        text-align: right;\n",
       "    }\n",
       "</style>\n",
       "<table border=\"1\" class=\"dataframe\">\n",
       "  <thead>\n",
       "    <tr style=\"text-align: right;\">\n",
       "      <th></th>\n",
       "      <th>town</th>\n",
       "      <th>resale_price</th>\n",
       "      <th>time_min</th>\n",
       "    </tr>\n",
       "  </thead>\n",
       "  <tbody>\n",
       "    <tr>\n",
       "      <th>0</th>\n",
       "      <td>ANG MO KIO</td>\n",
       "      <td>350000.0</td>\n",
       "      <td>17</td>\n",
       "    </tr>\n",
       "    <tr>\n",
       "      <th>1</th>\n",
       "      <td>BEDOK</td>\n",
       "      <td>368000.0</td>\n",
       "      <td>18</td>\n",
       "    </tr>\n",
       "  </tbody>\n",
       "</table>\n",
       "</div>"
      ],
      "text/plain": [
       "         town  resale_price  time_min\n",
       "0  ANG MO KIO      350000.0        17\n",
       "1       BEDOK      368000.0        18"
      ]
     },
     "execution_count": 337,
     "metadata": {},
     "output_type": "execute_result"
    }
   ],
   "source": [
    "town.head(2)"
   ]
  },
  {
   "cell_type": "code",
   "execution_count": 338,
   "metadata": {
    "scrolled": false
   },
   "outputs": [
    {
     "data": {
      "image/png": "[encoded data removed]",
      "text/plain": [
       "<Figure size 360x360 with 1 Axes>"
      ]
     },
     "metadata": {
      "needs_background": "light"
     },
     "output_type": "display_data"
    }
   ],
   "source": [
    "sns.lmplot(x='time_min', y='resale_price', data=town, ci=0)\n",
    "plt.show()"
   ]
  },
  {
   "cell_type": "markdown",
   "metadata": {},
   "source": [
    "#### As shown from the graph, the median resale price is affected because of the distance to downtown. The further away, the cheaper it is. But what is the difference like?\n",
    "#### Let's take a 4 room flat in Woodlands and Bishan for example and see what is the price difference."
   ]
  },
  {
   "cell_type": "code",
   "execution_count": 339,
   "metadata": {},
   "outputs": [],
   "source": [
    "# get the data for 4 room flat in Woodlands and Bishan\n",
    "woodlands = df[(df.town=='WOODLANDS')&(df.flat_type=='4 ROOM')]\n",
    "bishan = df[(df.town=='BISHAN')&(df.flat_type=='4 ROOM')]"
   ]
  },
  {
   "cell_type": "code",
   "execution_count": 340,
   "metadata": {},
   "outputs": [
    {
     "name": "stdout",
     "output_type": "stream",
     "text": [
      "The price difference is: $110000.0\n"
     ]
    }
   ],
   "source": [
    "# get the difference between the cheapest flat in bishan and woodlands\n",
    "print('The price difference is: $'+str(bishan.resale_price.min()-woodlands.resale_price.min()))"
   ]
  },
  {
   "cell_type": "markdown",
   "metadata": {},
   "source": [
    "### Is there any exception?"
   ]
  },
  {
   "cell_type": "code",
   "execution_count": 341,
   "metadata": {
    "scrolled": false
   },
   "outputs": [],
   "source": [
    "# get min price of each town\n",
    "min_price = df.groupby('town')['resale_price'].agg(['min'])"
   ]
  },
  {
   "cell_type": "code",
   "execution_count": 342,
   "metadata": {},
   "outputs": [
    {
     "data": {
      "text/html": [
       "<div>\n",
       "<style scoped>\n",
       "    .dataframe tbody tr th:only-of-type {\n",
       "        vertical-align: middle;\n",
       "    }\n",
       "\n",
       "    .dataframe tbody tr th {\n",
       "        vertical-align: top;\n",
       "    }\n",
       "\n",
       "    .dataframe thead th {\n",
       "        text-align: right;\n",
       "    }\n",
       "</style>\n",
       "<table border=\"1\" class=\"dataframe\">\n",
       "  <thead>\n",
       "    <tr style=\"text-align: right;\">\n",
       "      <th></th>\n",
       "      <th>min</th>\n",
       "    </tr>\n",
       "    <tr>\n",
       "      <th>town</th>\n",
       "      <th></th>\n",
       "    </tr>\n",
       "  </thead>\n",
       "  <tbody>\n",
       "    <tr>\n",
       "      <th>ANG MO KIO</th>\n",
       "      <td>174000.0</td>\n",
       "    </tr>\n",
       "    <tr>\n",
       "      <th>BEDOK</th>\n",
       "      <td>200000.0</td>\n",
       "    </tr>\n",
       "  </tbody>\n",
       "</table>\n",
       "</div>"
      ],
      "text/plain": [
       "                 min\n",
       "town                \n",
       "ANG MO KIO  174000.0\n",
       "BEDOK       200000.0"
      ]
     },
     "execution_count": 342,
     "metadata": {},
     "output_type": "execute_result"
    }
   ],
   "source": [
    "min_price.head(2)"
   ]
  },
  {
   "cell_type": "code",
   "execution_count": 343,
   "metadata": {
    "scrolled": false
   },
   "outputs": [
    {
     "data": {
      "image/png": "[encoded data removed]",
      "text/plain": [
       "<Figure size 1440x360 with 2 Axes>"
      ]
     },
     "metadata": {
      "needs_background": "light"
     },
     "output_type": "display_data"
    }
   ],
   "source": [
    "fig, axes = plt.subplots(nrows=1, ncols=2, figsize=(20,5))\n",
    "sns.barplot(x=min_price.index, y=min_price['min'], data=min_price, ax=axes[0])\n",
    "sns.stripplot(x=town.town, y=town.time_min, data=town, ax=axes[1])\n",
    "\n",
    "for label in axes[0].get_xticklabels():\n",
    "    label.set_rotation(90)\n",
    "\n",
    "for label in axes[1].get_xticklabels():\n",
    "    label.set_rotation(90)\n",
    "\n",
    "axes[0].set_xlabel('town')\n",
    "axes[0].set_ylabel('price')\n",
    "axes[1].set_xlabel('town')\n",
    "axes[1].set_ylabel('minutes')\n",
    "\n",
    "plt.show()"
   ]
  },
  {
   "cell_type": "markdown",
   "metadata": {},
   "source": [
    "#### YES!!! The minimum resale price for Central Area (which should be the nearest to downtown) is slightly less then $300,000. \n",
    "#### Let's get the detail."
   ]
  },
  {
   "cell_type": "code",
   "execution_count": 344,
   "metadata": {},
   "outputs": [],
   "source": [
    "# get the data of min price for central area\n",
    "central_area = df.loc[df.town=='CENTRAL AREA']"
   ]
  },
  {
   "cell_type": "code",
   "execution_count": 345,
   "metadata": {},
   "outputs": [
    {
     "data": {
      "text/html": [
       "<div>\n",
       "<style scoped>\n",
       "    .dataframe tbody tr th:only-of-type {\n",
       "        vertical-align: middle;\n",
       "    }\n",
       "\n",
       "    .dataframe tbody tr th {\n",
       "        vertical-align: top;\n",
       "    }\n",
       "\n",
       "    .dataframe thead th {\n",
       "        text-align: right;\n",
       "    }\n",
       "</style>\n",
       "<table border=\"1\" class=\"dataframe\">\n",
       "  <thead>\n",
       "    <tr style=\"text-align: right;\">\n",
       "      <th></th>\n",
       "      <th>town</th>\n",
       "      <th>flat_type</th>\n",
       "      <th>block</th>\n",
       "      <th>street_name</th>\n",
       "      <th>storey_range</th>\n",
       "      <th>floor_area_sqm</th>\n",
       "      <th>flat_model</th>\n",
       "      <th>lease_commence_date</th>\n",
       "      <th>remaining_lease</th>\n",
       "      <th>resale_price</th>\n",
       "    </tr>\n",
       "    <tr>\n",
       "      <th>registration_date</th>\n",
       "      <th></th>\n",
       "      <th></th>\n",
       "      <th></th>\n",
       "      <th></th>\n",
       "      <th></th>\n",
       "      <th></th>\n",
       "      <th></th>\n",
       "      <th></th>\n",
       "      <th></th>\n",
       "      <th></th>\n",
       "    </tr>\n",
       "  </thead>\n",
       "  <tbody>\n",
       "    <tr>\n",
       "      <th>2020-06-01</th>\n",
       "      <td>CENTRAL AREA</td>\n",
       "      <td>3 ROOM</td>\n",
       "      <td>29</td>\n",
       "      <td>KELANTAN RD</td>\n",
       "      <td>04 TO 06</td>\n",
       "      <td>65.0</td>\n",
       "      <td>Improved</td>\n",
       "      <td>1977</td>\n",
       "      <td>56.5</td>\n",
       "      <td>292000.0</td>\n",
       "    </tr>\n",
       "  </tbody>\n",
       "</table>\n",
       "</div>"
      ],
      "text/plain": [
       "                           town flat_type block  street_name storey_range  \\\n",
       "registration_date                                                           \n",
       "2020-06-01         CENTRAL AREA    3 ROOM    29  KELANTAN RD     04 TO 06   \n",
       "\n",
       "                   floor_area_sqm flat_model  lease_commence_date  \\\n",
       "registration_date                                                   \n",
       "2020-06-01                   65.0   Improved                 1977   \n",
       "\n",
       "                   remaining_lease  resale_price  \n",
       "registration_date                                 \n",
       "2020-06-01                    56.5      292000.0  "
      ]
     },
     "execution_count": 345,
     "metadata": {},
     "output_type": "execute_result"
    }
   ],
   "source": [
    "central_area.loc[central_area.resale_price==central_area.resale_price.min()]"
   ]
  },
  {
   "cell_type": "markdown",
   "metadata": {},
   "source": [
    "#### For those who wants convenience with a low budget might want to consider the flats around Kelantan Road."
   ]
  },
  {
   "cell_type": "markdown",
   "metadata": {},
   "source": [
    "#### Now we know that the location of the town has an impact on the resale pricing, what about the location within the town that are nearer to MRT station?"
   ]
  },
  {
   "cell_type": "markdown",
   "metadata": {},
   "source": [
    "### Distance to nearest MRT station vs price:"
   ]
  },
  {
   "cell_type": "code",
   "execution_count": 346,
   "metadata": {},
   "outputs": [],
   "source": [
    "# load and read the data we created using Onemap.sg\n",
    "geolocation = pd.read_csv('geolocation.csv')"
   ]
  },
  {
   "cell_type": "code",
   "execution_count": 347,
   "metadata": {},
   "outputs": [
    {
     "data": {
      "text/html": [
       "<div>\n",
       "<style scoped>\n",
       "    .dataframe tbody tr th:only-of-type {\n",
       "        vertical-align: middle;\n",
       "    }\n",
       "\n",
       "    .dataframe tbody tr th {\n",
       "        vertical-align: top;\n",
       "    }\n",
       "\n",
       "    .dataframe thead th {\n",
       "        text-align: right;\n",
       "    }\n",
       "</style>\n",
       "<table border=\"1\" class=\"dataframe\">\n",
       "  <thead>\n",
       "    <tr style=\"text-align: right;\">\n",
       "      <th></th>\n",
       "      <th>Unnamed: 0</th>\n",
       "      <th>address</th>\n",
       "      <th>latitude</th>\n",
       "      <th>longtitude</th>\n",
       "    </tr>\n",
       "  </thead>\n",
       "  <tbody>\n",
       "    <tr>\n",
       "      <th>0</th>\n",
       "      <td>0</td>\n",
       "      <td>406 ANG MO KIO AVE 10</td>\n",
       "      <td>1.362005</td>\n",
       "      <td>103.853880</td>\n",
       "    </tr>\n",
       "    <tr>\n",
       "      <th>1</th>\n",
       "      <td>1</td>\n",
       "      <td>108 ANG MO KIO AVE 4</td>\n",
       "      <td>1.370943</td>\n",
       "      <td>103.837975</td>\n",
       "    </tr>\n",
       "  </tbody>\n",
       "</table>\n",
       "</div>"
      ],
      "text/plain": [
       "   Unnamed: 0                address  latitude  longtitude\n",
       "0           0  406 ANG MO KIO AVE 10  1.362005  103.853880\n",
       "1           1   108 ANG MO KIO AVE 4  1.370943  103.837975"
      ]
     },
     "execution_count": 347,
     "metadata": {},
     "output_type": "execute_result"
    }
   ],
   "source": [
    "geolocation.head(2)"
   ]
  },
  {
   "cell_type": "code",
   "execution_count": 348,
   "metadata": {},
   "outputs": [],
   "source": [
    "# drop col. 'Unnamed: 0'\n",
    "geolocation.drop('Unnamed: 0', axis=1, inplace=True)"
   ]
  },
  {
   "cell_type": "code",
   "execution_count": 349,
   "metadata": {
    "scrolled": true
   },
   "outputs": [
    {
     "data": {
      "text/html": [
       "<div>\n",
       "<style scoped>\n",
       "    .dataframe tbody tr th:only-of-type {\n",
       "        vertical-align: middle;\n",
       "    }\n",
       "\n",
       "    .dataframe tbody tr th {\n",
       "        vertical-align: top;\n",
       "    }\n",
       "\n",
       "    .dataframe thead th {\n",
       "        text-align: right;\n",
       "    }\n",
       "</style>\n",
       "<table border=\"1\" class=\"dataframe\">\n",
       "  <thead>\n",
       "    <tr style=\"text-align: right;\">\n",
       "      <th></th>\n",
       "      <th>address</th>\n",
       "      <th>latitude</th>\n",
       "      <th>longtitude</th>\n",
       "    </tr>\n",
       "  </thead>\n",
       "  <tbody>\n",
       "    <tr>\n",
       "      <th>0</th>\n",
       "      <td>406 ANG MO KIO AVE 10</td>\n",
       "      <td>1.362005</td>\n",
       "      <td>103.853880</td>\n",
       "    </tr>\n",
       "    <tr>\n",
       "      <th>1</th>\n",
       "      <td>108 ANG MO KIO AVE 4</td>\n",
       "      <td>1.370943</td>\n",
       "      <td>103.837975</td>\n",
       "    </tr>\n",
       "  </tbody>\n",
       "</table>\n",
       "</div>"
      ],
      "text/plain": [
       "                 address  latitude  longtitude\n",
       "0  406 ANG MO KIO AVE 10  1.362005  103.853880\n",
       "1   108 ANG MO KIO AVE 4  1.370943  103.837975"
      ]
     },
     "execution_count": 349,
     "metadata": {},
     "output_type": "execute_result"
    }
   ],
   "source": [
    "geolocation.head(2)"
   ]
  },
  {
   "cell_type": "code",
   "execution_count": 350,
   "metadata": {},
   "outputs": [],
   "source": [
    "mrt_station = pd.read_csv('mrt_station.csv')"
   ]
  },
  {
   "cell_type": "code",
   "execution_count": 351,
   "metadata": {},
   "outputs": [
    {
     "data": {
      "text/html": [
       "<div>\n",
       "<style scoped>\n",
       "    .dataframe tbody tr th:only-of-type {\n",
       "        vertical-align: middle;\n",
       "    }\n",
       "\n",
       "    .dataframe tbody tr th {\n",
       "        vertical-align: top;\n",
       "    }\n",
       "\n",
       "    .dataframe thead th {\n",
       "        text-align: right;\n",
       "    }\n",
       "</style>\n",
       "<table border=\"1\" class=\"dataframe\">\n",
       "  <thead>\n",
       "    <tr style=\"text-align: right;\">\n",
       "      <th></th>\n",
       "      <th>Unnamed: 0</th>\n",
       "      <th>mrt_station</th>\n",
       "      <th>latitude</th>\n",
       "      <th>longtitude</th>\n",
       "    </tr>\n",
       "  </thead>\n",
       "  <tbody>\n",
       "    <tr>\n",
       "      <th>0</th>\n",
       "      <td>0</td>\n",
       "      <td>Jurong East MRT Station</td>\n",
       "      <td>1.333577</td>\n",
       "      <td>103.742292</td>\n",
       "    </tr>\n",
       "    <tr>\n",
       "      <th>1</th>\n",
       "      <td>1</td>\n",
       "      <td>Bukit Batok MRT Station</td>\n",
       "      <td>1.348424</td>\n",
       "      <td>103.749126</td>\n",
       "    </tr>\n",
       "  </tbody>\n",
       "</table>\n",
       "</div>"
      ],
      "text/plain": [
       "   Unnamed: 0              mrt_station  latitude  longtitude\n",
       "0           0  Jurong East MRT Station  1.333577  103.742292\n",
       "1           1  Bukit Batok MRT Station  1.348424  103.749126"
      ]
     },
     "execution_count": 351,
     "metadata": {},
     "output_type": "execute_result"
    }
   ],
   "source": [
    "mrt_station.head(2)"
   ]
  },
  {
   "cell_type": "code",
   "execution_count": 352,
   "metadata": {},
   "outputs": [],
   "source": [
    "mrt_station.drop('Unnamed: 0', axis=1, inplace=True)"
   ]
  },
  {
   "cell_type": "code",
   "execution_count": 353,
   "metadata": {},
   "outputs": [
    {
     "data": {
      "text/html": [
       "<div>\n",
       "<style scoped>\n",
       "    .dataframe tbody tr th:only-of-type {\n",
       "        vertical-align: middle;\n",
       "    }\n",
       "\n",
       "    .dataframe tbody tr th {\n",
       "        vertical-align: top;\n",
       "    }\n",
       "\n",
       "    .dataframe thead th {\n",
       "        text-align: right;\n",
       "    }\n",
       "</style>\n",
       "<table border=\"1\" class=\"dataframe\">\n",
       "  <thead>\n",
       "    <tr style=\"text-align: right;\">\n",
       "      <th></th>\n",
       "      <th>mrt_station</th>\n",
       "      <th>latitude</th>\n",
       "      <th>longtitude</th>\n",
       "    </tr>\n",
       "  </thead>\n",
       "  <tbody>\n",
       "    <tr>\n",
       "      <th>0</th>\n",
       "      <td>Jurong East MRT Station</td>\n",
       "      <td>1.333577</td>\n",
       "      <td>103.742292</td>\n",
       "    </tr>\n",
       "    <tr>\n",
       "      <th>1</th>\n",
       "      <td>Bukit Batok MRT Station</td>\n",
       "      <td>1.348424</td>\n",
       "      <td>103.749126</td>\n",
       "    </tr>\n",
       "  </tbody>\n",
       "</table>\n",
       "</div>"
      ],
      "text/plain": [
       "               mrt_station  latitude  longtitude\n",
       "0  Jurong East MRT Station  1.333577  103.742292\n",
       "1  Bukit Batok MRT Station  1.348424  103.749126"
      ]
     },
     "execution_count": 353,
     "metadata": {},
     "output_type": "execute_result"
    }
   ],
   "source": [
    "mrt_station.head(2)"
   ]
  },
  {
   "cell_type": "code",
   "execution_count": 354,
   "metadata": {},
   "outputs": [],
   "source": [
    "# find the distance from address to mrt station\n",
    "start_lat = geolocation.latitude\n",
    "start_long = geolocation.longtitude"
   ]
  },
  {
   "cell_type": "code",
   "execution_count": 355,
   "metadata": {},
   "outputs": [],
   "source": [
    "end_lat = mrt_station.latitude\n",
    "end_long = mrt_station.longtitude"
   ]
  },
  {
   "cell_type": "code",
   "execution_count": 356,
   "metadata": {},
   "outputs": [],
   "source": [
    "# group latitude and longitude for start and end address\n",
    "start_address = []\n",
    "for lat, long in zip(start_lat, start_long):\n",
    "    start_address.append((lat, long))"
   ]
  },
  {
   "cell_type": "code",
   "execution_count": 357,
   "metadata": {},
   "outputs": [],
   "source": [
    "end_address = []\n",
    "for lat, long in zip(end_lat, end_long):\n",
    "    end_address.append((lat, long))"
   ]
  },
  {
   "cell_type": "code",
   "execution_count": 358,
   "metadata": {},
   "outputs": [],
   "source": [
    "# get distance for individual address in km\n",
    "min_distance = []\n",
    "temp = []\n",
    "for start_pt in start_address:\n",
    "    for end_pt in end_address:\n",
    "        temp.append(round(geodesic(start_pt, end_pt).km, 2))\n",
    "    min_distance.append(min(temp))\n",
    "    temp.clear()"
   ]
  },
  {
   "cell_type": "code",
   "execution_count": 359,
   "metadata": {
    "scrolled": true
   },
   "outputs": [],
   "source": [
    "# create a new coloumn 'min_distance' for geolocation dataframe\n",
    "geolocation['min_distance'] = min_distance"
   ]
  },
  {
   "cell_type": "code",
   "execution_count": 360,
   "metadata": {},
   "outputs": [
    {
     "data": {
      "text/html": [
       "<div>\n",
       "<style scoped>\n",
       "    .dataframe tbody tr th:only-of-type {\n",
       "        vertical-align: middle;\n",
       "    }\n",
       "\n",
       "    .dataframe tbody tr th {\n",
       "        vertical-align: top;\n",
       "    }\n",
       "\n",
       "    .dataframe thead th {\n",
       "        text-align: right;\n",
       "    }\n",
       "</style>\n",
       "<table border=\"1\" class=\"dataframe\">\n",
       "  <thead>\n",
       "    <tr style=\"text-align: right;\">\n",
       "      <th></th>\n",
       "      <th>address</th>\n",
       "      <th>latitude</th>\n",
       "      <th>longtitude</th>\n",
       "      <th>min_distance</th>\n",
       "    </tr>\n",
       "  </thead>\n",
       "  <tbody>\n",
       "    <tr>\n",
       "      <th>0</th>\n",
       "      <td>406 ANG MO KIO AVE 10</td>\n",
       "      <td>1.362005</td>\n",
       "      <td>103.853880</td>\n",
       "      <td>0.98</td>\n",
       "    </tr>\n",
       "    <tr>\n",
       "      <th>1</th>\n",
       "      <td>108 ANG MO KIO AVE 4</td>\n",
       "      <td>1.370943</td>\n",
       "      <td>103.837975</td>\n",
       "      <td>1.32</td>\n",
       "    </tr>\n",
       "  </tbody>\n",
       "</table>\n",
       "</div>"
      ],
      "text/plain": [
       "                 address  latitude  longtitude  min_distance\n",
       "0  406 ANG MO KIO AVE 10  1.362005  103.853880          0.98\n",
       "1   108 ANG MO KIO AVE 4  1.370943  103.837975          1.32"
      ]
     },
     "execution_count": 360,
     "metadata": {},
     "output_type": "execute_result"
    }
   ],
   "source": [
    "geolocation.head(2)"
   ]
  },
  {
   "cell_type": "code",
   "execution_count": 361,
   "metadata": {},
   "outputs": [],
   "source": [
    "#create new coloumn 'address' for df dataframe for merging\n",
    "df['address'] = df.block + ' ' + df.street_name "
   ]
  },
  {
   "cell_type": "code",
   "execution_count": 362,
   "metadata": {},
   "outputs": [
    {
     "data": {
      "text/html": [
       "<div>\n",
       "<style scoped>\n",
       "    .dataframe tbody tr th:only-of-type {\n",
       "        vertical-align: middle;\n",
       "    }\n",
       "\n",
       "    .dataframe tbody tr th {\n",
       "        vertical-align: top;\n",
       "    }\n",
       "\n",
       "    .dataframe thead th {\n",
       "        text-align: right;\n",
       "    }\n",
       "</style>\n",
       "<table border=\"1\" class=\"dataframe\">\n",
       "  <thead>\n",
       "    <tr style=\"text-align: right;\">\n",
       "      <th></th>\n",
       "      <th>town</th>\n",
       "      <th>flat_type</th>\n",
       "      <th>block</th>\n",
       "      <th>street_name</th>\n",
       "      <th>storey_range</th>\n",
       "      <th>floor_area_sqm</th>\n",
       "      <th>flat_model</th>\n",
       "      <th>lease_commence_date</th>\n",
       "      <th>remaining_lease</th>\n",
       "      <th>resale_price</th>\n",
       "      <th>address</th>\n",
       "    </tr>\n",
       "    <tr>\n",
       "      <th>registration_date</th>\n",
       "      <th></th>\n",
       "      <th></th>\n",
       "      <th></th>\n",
       "      <th></th>\n",
       "      <th></th>\n",
       "      <th></th>\n",
       "      <th></th>\n",
       "      <th></th>\n",
       "      <th></th>\n",
       "      <th></th>\n",
       "      <th></th>\n",
       "    </tr>\n",
       "  </thead>\n",
       "  <tbody>\n",
       "    <tr>\n",
       "      <th>2017-01-01</th>\n",
       "      <td>ANG MO KIO</td>\n",
       "      <td>3 ROOM</td>\n",
       "      <td>108</td>\n",
       "      <td>ANG MO KIO AVE 4</td>\n",
       "      <td>01 TO 03</td>\n",
       "      <td>67.0</td>\n",
       "      <td>New Generation</td>\n",
       "      <td>1978</td>\n",
       "      <td>60.58</td>\n",
       "      <td>250000.0</td>\n",
       "      <td>108 ANG MO KIO AVE 4</td>\n",
       "    </tr>\n",
       "    <tr>\n",
       "      <th>2017-01-01</th>\n",
       "      <td>ANG MO KIO</td>\n",
       "      <td>3 ROOM</td>\n",
       "      <td>602</td>\n",
       "      <td>ANG MO KIO AVE 5</td>\n",
       "      <td>01 TO 03</td>\n",
       "      <td>67.0</td>\n",
       "      <td>New Generation</td>\n",
       "      <td>1980</td>\n",
       "      <td>62.42</td>\n",
       "      <td>262000.0</td>\n",
       "      <td>602 ANG MO KIO AVE 5</td>\n",
       "    </tr>\n",
       "  </tbody>\n",
       "</table>\n",
       "</div>"
      ],
      "text/plain": [
       "                         town flat_type block       street_name storey_range  \\\n",
       "registration_date                                                              \n",
       "2017-01-01         ANG MO KIO    3 ROOM   108  ANG MO KIO AVE 4     01 TO 03   \n",
       "2017-01-01         ANG MO KIO    3 ROOM   602  ANG MO KIO AVE 5     01 TO 03   \n",
       "\n",
       "                   floor_area_sqm      flat_model  lease_commence_date  \\\n",
       "registration_date                                                        \n",
       "2017-01-01                   67.0  New Generation                 1978   \n",
       "2017-01-01                   67.0  New Generation                 1980   \n",
       "\n",
       "                   remaining_lease  resale_price               address  \n",
       "registration_date                                                       \n",
       "2017-01-01                   60.58      250000.0  108 ANG MO KIO AVE 4  \n",
       "2017-01-01                   62.42      262000.0  602 ANG MO KIO AVE 5  "
      ]
     },
     "execution_count": 362,
     "metadata": {},
     "output_type": "execute_result"
    }
   ],
   "source": [
    "df.head(2)"
   ]
  },
  {
   "cell_type": "code",
   "execution_count": 363,
   "metadata": {},
   "outputs": [],
   "source": [
    "# reset index for merging\n",
    "df.reset_index(inplace=True)"
   ]
  },
  {
   "cell_type": "code",
   "execution_count": 364,
   "metadata": {},
   "outputs": [],
   "source": [
    "# merge geolocation with df\n",
    "df = pd.merge(df, geolocation, how='left', left_on=['address'], right_on=['address'], left_index=True)"
   ]
  },
  {
   "cell_type": "code",
   "execution_count": 365,
   "metadata": {},
   "outputs": [],
   "source": [
    "# set back the index\n",
    "df.set_index('registration_date', inplace=True)"
   ]
  },
  {
   "cell_type": "code",
   "execution_count": 366,
   "metadata": {
    "scrolled": true
   },
   "outputs": [
    {
     "data": {
      "text/html": [
       "<div>\n",
       "<style scoped>\n",
       "    .dataframe tbody tr th:only-of-type {\n",
       "        vertical-align: middle;\n",
       "    }\n",
       "\n",
       "    .dataframe tbody tr th {\n",
       "        vertical-align: top;\n",
       "    }\n",
       "\n",
       "    .dataframe thead th {\n",
       "        text-align: right;\n",
       "    }\n",
       "</style>\n",
       "<table border=\"1\" class=\"dataframe\">\n",
       "  <thead>\n",
       "    <tr style=\"text-align: right;\">\n",
       "      <th></th>\n",
       "      <th>town</th>\n",
       "      <th>flat_type</th>\n",
       "      <th>block</th>\n",
       "      <th>street_name</th>\n",
       "      <th>storey_range</th>\n",
       "      <th>floor_area_sqm</th>\n",
       "      <th>flat_model</th>\n",
       "      <th>lease_commence_date</th>\n",
       "      <th>remaining_lease</th>\n",
       "      <th>resale_price</th>\n",
       "      <th>address</th>\n",
       "      <th>latitude</th>\n",
       "      <th>longtitude</th>\n",
       "      <th>min_distance</th>\n",
       "    </tr>\n",
       "    <tr>\n",
       "      <th>registration_date</th>\n",
       "      <th></th>\n",
       "      <th></th>\n",
       "      <th></th>\n",
       "      <th></th>\n",
       "      <th></th>\n",
       "      <th></th>\n",
       "      <th></th>\n",
       "      <th></th>\n",
       "      <th></th>\n",
       "      <th></th>\n",
       "      <th></th>\n",
       "      <th></th>\n",
       "      <th></th>\n",
       "      <th></th>\n",
       "    </tr>\n",
       "  </thead>\n",
       "  <tbody>\n",
       "    <tr>\n",
       "      <th>2017-01-01</th>\n",
       "      <td>ANG MO KIO</td>\n",
       "      <td>3 ROOM</td>\n",
       "      <td>108</td>\n",
       "      <td>ANG MO KIO AVE 4</td>\n",
       "      <td>01 TO 03</td>\n",
       "      <td>67.0</td>\n",
       "      <td>New Generation</td>\n",
       "      <td>1978</td>\n",
       "      <td>60.58</td>\n",
       "      <td>250000.0</td>\n",
       "      <td>108 ANG MO KIO AVE 4</td>\n",
       "      <td>1.370943</td>\n",
       "      <td>103.837975</td>\n",
       "      <td>1.32</td>\n",
       "    </tr>\n",
       "    <tr>\n",
       "      <th>2017-01-01</th>\n",
       "      <td>ANG MO KIO</td>\n",
       "      <td>3 ROOM</td>\n",
       "      <td>602</td>\n",
       "      <td>ANG MO KIO AVE 5</td>\n",
       "      <td>01 TO 03</td>\n",
       "      <td>67.0</td>\n",
       "      <td>New Generation</td>\n",
       "      <td>1980</td>\n",
       "      <td>62.42</td>\n",
       "      <td>262000.0</td>\n",
       "      <td>602 ANG MO KIO AVE 5</td>\n",
       "      <td>1.380709</td>\n",
       "      <td>103.835368</td>\n",
       "      <td>1.04</td>\n",
       "    </tr>\n",
       "  </tbody>\n",
       "</table>\n",
       "</div>"
      ],
      "text/plain": [
       "                         town flat_type block       street_name storey_range  \\\n",
       "registration_date                                                              \n",
       "2017-01-01         ANG MO KIO    3 ROOM   108  ANG MO KIO AVE 4     01 TO 03   \n",
       "2017-01-01         ANG MO KIO    3 ROOM   602  ANG MO KIO AVE 5     01 TO 03   \n",
       "\n",
       "                   floor_area_sqm      flat_model  lease_commence_date  \\\n",
       "registration_date                                                        \n",
       "2017-01-01                   67.0  New Generation                 1978   \n",
       "2017-01-01                   67.0  New Generation                 1980   \n",
       "\n",
       "                   remaining_lease  resale_price               address  \\\n",
       "registration_date                                                        \n",
       "2017-01-01                   60.58      250000.0  108 ANG MO KIO AVE 4   \n",
       "2017-01-01                   62.42      262000.0  602 ANG MO KIO AVE 5   \n",
       "\n",
       "                   latitude  longtitude  min_distance  \n",
       "registration_date                                      \n",
       "2017-01-01         1.370943  103.837975          1.32  \n",
       "2017-01-01         1.380709  103.835368          1.04  "
      ]
     },
     "execution_count": 366,
     "metadata": {},
     "output_type": "execute_result"
    }
   ],
   "source": [
    "df.head(2)"
   ]
  },
  {
   "cell_type": "code",
   "execution_count": 367,
   "metadata": {},
   "outputs": [
    {
     "name": "stdout",
     "output_type": "stream",
     "text": [
      "min distance: 0.02\n",
      "max distance: 11536.35\n"
     ]
    }
   ],
   "source": [
    "# take a look at min and max distance\n",
    "print('min distance:', df.min_distance.min())\n",
    "print('max distance:', df.min_distance.max())"
   ]
  },
  {
   "cell_type": "code",
   "execution_count": 368,
   "metadata": {
    "scrolled": false
   },
   "outputs": [
    {
     "data": {
      "text/html": [
       "<div>\n",
       "<style scoped>\n",
       "    .dataframe tbody tr th:only-of-type {\n",
       "        vertical-align: middle;\n",
       "    }\n",
       "\n",
       "    .dataframe tbody tr th {\n",
       "        vertical-align: top;\n",
       "    }\n",
       "\n",
       "    .dataframe thead th {\n",
       "        text-align: right;\n",
       "    }\n",
       "</style>\n",
       "<table border=\"1\" class=\"dataframe\">\n",
       "  <thead>\n",
       "    <tr style=\"text-align: right;\">\n",
       "      <th></th>\n",
       "      <th>town</th>\n",
       "      <th>flat_type</th>\n",
       "      <th>block</th>\n",
       "      <th>street_name</th>\n",
       "      <th>storey_range</th>\n",
       "      <th>floor_area_sqm</th>\n",
       "      <th>flat_model</th>\n",
       "      <th>lease_commence_date</th>\n",
       "      <th>remaining_lease</th>\n",
       "      <th>resale_price</th>\n",
       "      <th>address</th>\n",
       "      <th>latitude</th>\n",
       "      <th>longtitude</th>\n",
       "      <th>min_distance</th>\n",
       "    </tr>\n",
       "    <tr>\n",
       "      <th>registration_date</th>\n",
       "      <th></th>\n",
       "      <th></th>\n",
       "      <th></th>\n",
       "      <th></th>\n",
       "      <th></th>\n",
       "      <th></th>\n",
       "      <th></th>\n",
       "      <th></th>\n",
       "      <th></th>\n",
       "      <th></th>\n",
       "      <th></th>\n",
       "      <th></th>\n",
       "      <th></th>\n",
       "      <th></th>\n",
       "    </tr>\n",
       "  </thead>\n",
       "  <tbody>\n",
       "    <tr>\n",
       "      <th>2017-01-01</th>\n",
       "      <td>KALLANG/WHAMPOA</td>\n",
       "      <td>3 ROOM</td>\n",
       "      <td>3</td>\n",
       "      <td>ST. GEORGE'S RD</td>\n",
       "      <td>13 TO 15</td>\n",
       "      <td>59.0</td>\n",
       "      <td>Improved</td>\n",
       "      <td>1976</td>\n",
       "      <td>58.33</td>\n",
       "      <td>286000.0</td>\n",
       "      <td>3 ST. GEORGE'S RD</td>\n",
       "      <td>0.0</td>\n",
       "      <td>0.0</td>\n",
       "      <td>11536.35</td>\n",
       "    </tr>\n",
       "    <tr>\n",
       "      <th>2017-01-01</th>\n",
       "      <td>KALLANG/WHAMPOA</td>\n",
       "      <td>3 ROOM</td>\n",
       "      <td>3</td>\n",
       "      <td>ST. GEORGE'S RD</td>\n",
       "      <td>07 TO 09</td>\n",
       "      <td>59.0</td>\n",
       "      <td>Improved</td>\n",
       "      <td>1976</td>\n",
       "      <td>58.33</td>\n",
       "      <td>320000.0</td>\n",
       "      <td>3 ST. GEORGE'S RD</td>\n",
       "      <td>0.0</td>\n",
       "      <td>0.0</td>\n",
       "      <td>11536.35</td>\n",
       "    </tr>\n",
       "  </tbody>\n",
       "</table>\n",
       "</div>"
      ],
      "text/plain": [
       "                              town flat_type block      street_name  \\\n",
       "registration_date                                                     \n",
       "2017-01-01         KALLANG/WHAMPOA    3 ROOM     3  ST. GEORGE'S RD   \n",
       "2017-01-01         KALLANG/WHAMPOA    3 ROOM     3  ST. GEORGE'S RD   \n",
       "\n",
       "                  storey_range  floor_area_sqm flat_model  \\\n",
       "registration_date                                           \n",
       "2017-01-01            13 TO 15            59.0   Improved   \n",
       "2017-01-01            07 TO 09            59.0   Improved   \n",
       "\n",
       "                   lease_commence_date  remaining_lease  resale_price  \\\n",
       "registration_date                                                       \n",
       "2017-01-01                        1976            58.33      286000.0   \n",
       "2017-01-01                        1976            58.33      320000.0   \n",
       "\n",
       "                             address  latitude  longtitude  min_distance  \n",
       "registration_date                                                         \n",
       "2017-01-01         3 ST. GEORGE'S RD       0.0         0.0      11536.35  \n",
       "2017-01-01         3 ST. GEORGE'S RD       0.0         0.0      11536.35  "
      ]
     },
     "execution_count": 368,
     "metadata": {},
     "output_type": "execute_result"
    }
   ],
   "source": [
    "# there is an error for the max distance\n",
    "# Check the data\n",
    "df[df.min_distance==df.min_distance.max()].head(2)"
   ]
  },
  {
   "cell_type": "code",
   "execution_count": 369,
   "metadata": {},
   "outputs": [
    {
     "data": {
      "text/plain": [
       "(190, 14)"
      ]
     },
     "execution_count": 369,
     "metadata": {},
     "output_type": "execute_result"
    }
   ],
   "source": [
    "# seem like we can't get the geolocation for certain area from Onemap.sg\n",
    "error = df[df.min_distance==df.min_distance.max()]   # get all error data\n",
    "error.shape"
   ]
  },
  {
   "cell_type": "code",
   "execution_count": 370,
   "metadata": {},
   "outputs": [
    {
     "data": {
      "text/plain": [
       "array(['KALLANG/WHAMPOA'], dtype=object)"
      ]
     },
     "execution_count": 370,
     "metadata": {},
     "output_type": "execute_result"
    }
   ],
   "source": [
    "# check which area\n",
    "error.town.unique()"
   ]
  },
  {
   "cell_type": "code",
   "execution_count": 371,
   "metadata": {
    "scrolled": true
   },
   "outputs": [],
   "source": [
    "# cleaning the data\n",
    "error = list(df[df.town=='KALLANG/WHAMPOA'].min_distance)  # get all distance for kallang/whampoa \n",
    "                                                           # since all error is in that area"
   ]
  },
  {
   "cell_type": "code",
   "execution_count": 372,
   "metadata": {},
   "outputs": [],
   "source": [
    "# set the error distance to 0\n",
    "for i in range(len(error)):\n",
    "    if error[i]==max(error):\n",
    "        error[i] = 0\n",
    "    else:\n",
    "        error[i] = error[i]"
   ]
  },
  {
   "cell_type": "code",
   "execution_count": 373,
   "metadata": {},
   "outputs": [],
   "source": [
    "# get the average distance to repalce the error distance\n",
    "avg = round(sum(error)/len(error),2)"
   ]
  },
  {
   "cell_type": "code",
   "execution_count": 374,
   "metadata": {},
   "outputs": [
    {
     "data": {
      "text/plain": [
       "registration_date\n",
       "2017-01-01        0.79\n",
       "2017-01-01        1.03\n",
       "2017-01-01    11536.35\n",
       "2017-01-01        0.27\n",
       "2017-01-01    11536.35\n",
       "Name: min_distance, dtype: float64"
      ]
     },
     "execution_count": 374,
     "metadata": {},
     "output_type": "execute_result"
    }
   ],
   "source": [
    "# before cleaning\n",
    "df[df.town=='KALLANG/WHAMPOA'].min_distance.head()"
   ]
  },
  {
   "cell_type": "code",
   "execution_count": 375,
   "metadata": {},
   "outputs": [],
   "source": [
    "# replace the average to df dataframe\n",
    "df.replace(df.min_distance.max(), avg, inplace=True)"
   ]
  },
  {
   "cell_type": "code",
   "execution_count": 376,
   "metadata": {},
   "outputs": [
    {
     "data": {
      "text/plain": [
       "registration_date\n",
       "2017-01-01    0.79\n",
       "2017-01-01    1.03\n",
       "2017-01-01    0.46\n",
       "2017-01-01    0.27\n",
       "2017-01-01    0.46\n",
       "Name: min_distance, dtype: float64"
      ]
     },
     "execution_count": 376,
     "metadata": {},
     "output_type": "execute_result"
    }
   ],
   "source": [
    "# after cleaning\n",
    "df[df.town=='KALLANG/WHAMPOA'].min_distance.head()"
   ]
  },
  {
   "cell_type": "code",
   "execution_count": 377,
   "metadata": {},
   "outputs": [],
   "source": [
    "# bin 'min_distance' for ploting\n",
    "df['dist_bins'] = pd.cut(x=df.min_distance, bins=[0,0.5,1,1.5,2,2.5,3,3.5,4], \n",
    "                         labels=['0 to 0.5','0.51 to 1.0','1.1 to 1.5','1.51 to 2.0',\\\n",
    "                                 '2.1 to 2.5','2.51 to 3.0','3.1 to 3.5','3.51 to 4.0'])  "
   ]
  },
  {
   "cell_type": "code",
   "execution_count": 378,
   "metadata": {},
   "outputs": [
    {
     "data": {
      "image/png": "[encoded data removed]",
      "text/plain": [
       "<Figure size 864x432 with 1 Axes>"
      ]
     },
     "metadata": {
      "needs_background": "light"
     },
     "output_type": "display_data"
    }
   ],
   "source": [
    "plt.figure(figsize=(12,6))\n",
    "sns.stripplot(x='dist_bins', y='resale_price', data=df)\n",
    "plt.xticks(rotation=50)\n",
    "plt.xlabel('distance to nearest MRT station in km')\n",
    "plt.ylabel('resale price(in millions)')\n",
    "\n",
    "plt.show()"
   ]
  },
  {
   "cell_type": "markdown",
   "metadata": {},
   "source": [
    "#### As we can see from the graph, the price is also affected by the distance to MRT station. Again, let's take a 4 room flat in Woodlands for example and see how much can the difference be."
   ]
  },
  {
   "cell_type": "code",
   "execution_count": 379,
   "metadata": {},
   "outputs": [],
   "source": [
    "# get the data of 4 room flats in Woodlands from the new data\n",
    "woodlands = df[(df.town=='WOODLANDS')&(df.flat_type=='4 ROOM')]"
   ]
  },
  {
   "cell_type": "code",
   "execution_count": 380,
   "metadata": {},
   "outputs": [],
   "source": [
    "# get nearest and furthest data\n",
    "nearest = woodlands[woodlands.min_distance==woodlands.min_distance.min()]\n",
    "furthest = woodlands[woodlands.min_distance==woodlands.min_distance.max()]"
   ]
  },
  {
   "cell_type": "code",
   "execution_count": 381,
   "metadata": {
    "scrolled": true
   },
   "outputs": [
    {
     "name": "stdout",
     "output_type": "stream",
     "text": [
      "The price diffence is: $37000.0\n"
     ]
    }
   ],
   "source": [
    "print('The price diffence is: $'+str(nearest.resale_price.max()-furthest.resale_price.max()))"
   ]
  },
  {
   "cell_type": "markdown",
   "metadata": {},
   "source": [
    "#### We can safely say that convenience has a strong positive correlationship with resale pricing."
   ]
  },
  {
   "cell_type": "markdown",
   "metadata": {},
   "source": [
    "### Which town has the most transaction and why?"
   ]
  },
  {
   "cell_type": "code",
   "execution_count": 382,
   "metadata": {},
   "outputs": [],
   "source": [
    "# get the number of transaction for each town by year\n",
    "transaction_by_town = pd.crosstab(index=df.index.year, columns=df.town)"
   ]
  },
  {
   "cell_type": "code",
   "execution_count": 383,
   "metadata": {},
   "outputs": [
    {
     "data": {
      "text/html": [
       "<div>\n",
       "<style scoped>\n",
       "    .dataframe tbody tr th:only-of-type {\n",
       "        vertical-align: middle;\n",
       "    }\n",
       "\n",
       "    .dataframe tbody tr th {\n",
       "        vertical-align: top;\n",
       "    }\n",
       "\n",
       "    .dataframe thead th {\n",
       "        text-align: right;\n",
       "    }\n",
       "</style>\n",
       "<table border=\"1\" class=\"dataframe\">\n",
       "  <thead>\n",
       "    <tr style=\"text-align: right;\">\n",
       "      <th>town</th>\n",
       "      <th>ANG MO KIO</th>\n",
       "      <th>BEDOK</th>\n",
       "      <th>BISHAN</th>\n",
       "      <th>BUKIT BATOK</th>\n",
       "      <th>BUKIT MERAH</th>\n",
       "      <th>BUKIT PANJANG</th>\n",
       "      <th>BUKIT TIMAH</th>\n",
       "      <th>CENTRAL AREA</th>\n",
       "      <th>CHOA CHU KANG</th>\n",
       "      <th>CLEMENTI</th>\n",
       "      <th>...</th>\n",
       "      <th>PASIR RIS</th>\n",
       "      <th>PUNGGOL</th>\n",
       "      <th>QUEENSTOWN</th>\n",
       "      <th>SEMBAWANG</th>\n",
       "      <th>SENGKANG</th>\n",
       "      <th>SERANGOON</th>\n",
       "      <th>TAMPINES</th>\n",
       "      <th>TOA PAYOH</th>\n",
       "      <th>WOODLANDS</th>\n",
       "      <th>YISHUN</th>\n",
       "    </tr>\n",
       "    <tr>\n",
       "      <th>row_0</th>\n",
       "      <th></th>\n",
       "      <th></th>\n",
       "      <th></th>\n",
       "      <th></th>\n",
       "      <th></th>\n",
       "      <th></th>\n",
       "      <th></th>\n",
       "      <th></th>\n",
       "      <th></th>\n",
       "      <th></th>\n",
       "      <th></th>\n",
       "      <th></th>\n",
       "      <th></th>\n",
       "      <th></th>\n",
       "      <th></th>\n",
       "      <th></th>\n",
       "      <th></th>\n",
       "      <th></th>\n",
       "      <th></th>\n",
       "      <th></th>\n",
       "      <th></th>\n",
       "    </tr>\n",
       "  </thead>\n",
       "  <tbody>\n",
       "    <tr>\n",
       "      <th>2017</th>\n",
       "      <td>919</td>\n",
       "      <td>1139</td>\n",
       "      <td>445</td>\n",
       "      <td>736</td>\n",
       "      <td>798</td>\n",
       "      <td>694</td>\n",
       "      <td>57</td>\n",
       "      <td>177</td>\n",
       "      <td>801</td>\n",
       "      <td>437</td>\n",
       "      <td>...</td>\n",
       "      <td>626</td>\n",
       "      <td>1305</td>\n",
       "      <td>511</td>\n",
       "      <td>523</td>\n",
       "      <td>1504</td>\n",
       "      <td>430</td>\n",
       "      <td>1296</td>\n",
       "      <td>721</td>\n",
       "      <td>1530</td>\n",
       "      <td>1243</td>\n",
       "    </tr>\n",
       "    <tr>\n",
       "      <th>2018</th>\n",
       "      <td>1000</td>\n",
       "      <td>1117</td>\n",
       "      <td>405</td>\n",
       "      <td>841</td>\n",
       "      <td>831</td>\n",
       "      <td>745</td>\n",
       "      <td>61</td>\n",
       "      <td>172</td>\n",
       "      <td>928</td>\n",
       "      <td>477</td>\n",
       "      <td>...</td>\n",
       "      <td>625</td>\n",
       "      <td>1510</td>\n",
       "      <td>605</td>\n",
       "      <td>582</td>\n",
       "      <td>1601</td>\n",
       "      <td>456</td>\n",
       "      <td>1349</td>\n",
       "      <td>714</td>\n",
       "      <td>1660</td>\n",
       "      <td>1269</td>\n",
       "    </tr>\n",
       "  </tbody>\n",
       "</table>\n",
       "<p>2 rows × 26 columns</p>\n",
       "</div>"
      ],
      "text/plain": [
       "town   ANG MO KIO  BEDOK  BISHAN  BUKIT BATOK  BUKIT MERAH  BUKIT PANJANG  \\\n",
       "row_0                                                                       \n",
       "2017          919   1139     445          736          798            694   \n",
       "2018         1000   1117     405          841          831            745   \n",
       "\n",
       "town   BUKIT TIMAH  CENTRAL AREA  CHOA CHU KANG  CLEMENTI  ...  PASIR RIS  \\\n",
       "row_0                                                      ...              \n",
       "2017            57           177            801       437  ...        626   \n",
       "2018            61           172            928       477  ...        625   \n",
       "\n",
       "town   PUNGGOL  QUEENSTOWN  SEMBAWANG  SENGKANG  SERANGOON  TAMPINES  \\\n",
       "row_0                                                                  \n",
       "2017      1305         511        523      1504        430      1296   \n",
       "2018      1510         605        582      1601        456      1349   \n",
       "\n",
       "town   TOA PAYOH  WOODLANDS  YISHUN  \n",
       "row_0                                \n",
       "2017         721       1530    1243  \n",
       "2018         714       1660    1269  \n",
       "\n",
       "[2 rows x 26 columns]"
      ]
     },
     "execution_count": 383,
     "metadata": {},
     "output_type": "execute_result"
    }
   ],
   "source": [
    "transaction_by_town.head(2)"
   ]
  },
  {
   "cell_type": "code",
   "execution_count": 384,
   "metadata": {
    "scrolled": false
   },
   "outputs": [
    {
     "data": {
      "image/png": "[encoded data removed]",
      "text/plain": [
       "<Figure size 720x720 with 4 Axes>"
      ]
     },
     "metadata": {
      "needs_background": "light"
     },
     "output_type": "display_data"
    }
   ],
   "source": [
    "sns.clustermap(transaction_by_town).savefig('town.png')\n",
    "\n",
    "plt.show()"
   ]
  },
  {
   "cell_type": "markdown",
   "metadata": {},
   "source": [
    "#### We can see that  the transaction of the top 6 town (Sengkang, Jurong West, Woodlands, Yishun, Punggol and Tampines) have increase the most compared to other town across the years. Why is this so?"
   ]
  },
  {
   "cell_type": "markdown",
   "metadata": {},
   "source": [
    "### Is remaining lease a factor?"
   ]
  },
  {
   "cell_type": "code",
   "execution_count": 385,
   "metadata": {
    "scrolled": true
   },
   "outputs": [
    {
     "name": "stderr",
     "output_type": "stream",
     "text": [
      "<ipython-input-385-a782f15eecbf>:2: FutureWarning: Indexing with multiple keys (implicitly converted to a tuple of keys) will be deprecated, use a list instead.\n",
      "  avg_lease_remain_price = df.groupby('town')['resale_price', 'remaining_lease'].median()\\\n"
     ]
    }
   ],
   "source": [
    "# group 'town' with 'resale_price' and 'remainig _lease' and sort by 'remainig_lease'\n",
    "avg_lease_remain_price = df.groupby('town')['resale_price', 'remaining_lease'].median()\\\n",
    "                        .sort_values(by='remaining_lease', ascending=False)"
   ]
  },
  {
   "cell_type": "code",
   "execution_count": 386,
   "metadata": {},
   "outputs": [
    {
     "data": {
      "text/html": [
       "<div>\n",
       "<style scoped>\n",
       "    .dataframe tbody tr th:only-of-type {\n",
       "        vertical-align: middle;\n",
       "    }\n",
       "\n",
       "    .dataframe tbody tr th {\n",
       "        vertical-align: top;\n",
       "    }\n",
       "\n",
       "    .dataframe thead th {\n",
       "        text-align: right;\n",
       "    }\n",
       "</style>\n",
       "<table border=\"1\" class=\"dataframe\">\n",
       "  <thead>\n",
       "    <tr style=\"text-align: right;\">\n",
       "      <th></th>\n",
       "      <th>resale_price</th>\n",
       "      <th>remaining_lease</th>\n",
       "    </tr>\n",
       "    <tr>\n",
       "      <th>town</th>\n",
       "      <th></th>\n",
       "      <th></th>\n",
       "    </tr>\n",
       "  </thead>\n",
       "  <tbody>\n",
       "    <tr>\n",
       "      <th>PUNGGOL</th>\n",
       "      <td>450000.0</td>\n",
       "      <td>93.50</td>\n",
       "    </tr>\n",
       "    <tr>\n",
       "      <th>SENGKANG</th>\n",
       "      <td>430000.0</td>\n",
       "      <td>86.67</td>\n",
       "    </tr>\n",
       "    <tr>\n",
       "      <th>SEMBAWANG</th>\n",
       "      <td>378000.0</td>\n",
       "      <td>82.00</td>\n",
       "    </tr>\n",
       "    <tr>\n",
       "      <th>BUKIT PANJANG</th>\n",
       "      <td>425000.0</td>\n",
       "      <td>80.83</td>\n",
       "    </tr>\n",
       "    <tr>\n",
       "      <th>WOODLANDS</th>\n",
       "      <td>368000.0</td>\n",
       "      <td>78.00</td>\n",
       "    </tr>\n",
       "  </tbody>\n",
       "</table>\n",
       "</div>"
      ],
      "text/plain": [
       "               resale_price  remaining_lease\n",
       "town                                        \n",
       "PUNGGOL            450000.0            93.50\n",
       "SENGKANG           430000.0            86.67\n",
       "SEMBAWANG          378000.0            82.00\n",
       "BUKIT PANJANG      425000.0            80.83\n",
       "WOODLANDS          368000.0            78.00"
      ]
     },
     "execution_count": 386,
     "metadata": {},
     "output_type": "execute_result"
    }
   ],
   "source": [
    "avg_lease_remain_price.head()"
   ]
  },
  {
   "cell_type": "code",
   "execution_count": 387,
   "metadata": {},
   "outputs": [
    {
     "data": {
      "image/png": "[encoded data removed]",
      "text/plain": [
       "<Figure size 1440x360 with 2 Axes>"
      ]
     },
     "metadata": {
      "needs_background": "light"
     },
     "output_type": "display_data"
    }
   ],
   "source": [
    "fig, axes = plt.subplots(nrows=1, ncols=2, figsize=(20,5))\n",
    "\n",
    "# save axes to variable 'barlist'\n",
    "barlist_0 = axes[0].bar(avg_lease_remain_price.index, avg_lease_remain_price.remaining_lease)\n",
    "barlist_1 = axes[1].bar(avg_lease_remain_price.index, avg_lease_remain_price.resale_price)\n",
    "\n",
    "for label in axes[0].get_xticklabels():\n",
    "    label.set_rotation(90)\n",
    "\n",
    "for label in axes[1].get_xticklabels():\n",
    "    label.set_rotation(90)\n",
    "\n",
    "axes[0].set_xlabel('town')\n",
    "axes[0].set_ylabel('year remaining')\n",
    "axes[1].set_xlabel('town')\n",
    "axes[1].set_ylabel('price')\n",
    "axes[0].axhline(y=df.remaining_lease.mean(), color='r', linestyle='-', label='median')\n",
    "axes[1].axhline(y=df.resale_price.median(), color='r', linestyle='-', label='median')\n",
    "axes[0].legend()\n",
    "axes[1].legend()\n",
    "\n",
    "# create a list of bar we want to change color\n",
    "bar = [1,6,4,12,14,0]               \n",
    "[barlist_0[i].set_color('g') for i in bar]       # set the color of the bar we want\n",
    "[barlist_1[i].set_color('g') for i in bar]\n",
    "    \n",
    "plt.savefig('remain.png')"
   ]
  },
  {
   "cell_type": "markdown",
   "metadata": {},
   "source": [
    "#### From the left chart, the remaining lease sure is a factor as 4 of the top 6 town have a remaining lease of more than 75 years (which is the median remaining lease). Also, price is another factor. As shown in the right chart, the price of the top 6 towns is in the region of the median price. Other possible factor could be these towns are still developing. With more planning for these towns, it is sensible to get a flat in these town as the flat are newer and reasonably priced."
   ]
  },
  {
   "cell_type": "markdown",
   "metadata": {},
   "source": [
    "### What is the trend like for the past years?"
   ]
  },
  {
   "cell_type": "code",
   "execution_count": 388,
   "metadata": {},
   "outputs": [],
   "source": [
    "# get the median resale price by month of each year\n",
    "yearly_trend = df.pivot_table(values='resale_price', index=df.index.month, columns=df.index.year, aggfunc=np.median)"
   ]
  },
  {
   "cell_type": "code",
   "execution_count": 389,
   "metadata": {},
   "outputs": [
    {
     "data": {
      "text/html": [
       "<div>\n",
       "<style scoped>\n",
       "    .dataframe tbody tr th:only-of-type {\n",
       "        vertical-align: middle;\n",
       "    }\n",
       "\n",
       "    .dataframe tbody tr th {\n",
       "        vertical-align: top;\n",
       "    }\n",
       "\n",
       "    .dataframe thead th {\n",
       "        text-align: right;\n",
       "    }\n",
       "</style>\n",
       "<table border=\"1\" class=\"dataframe\">\n",
       "  <thead>\n",
       "    <tr style=\"text-align: right;\">\n",
       "      <th>registration_date</th>\n",
       "      <th>2017</th>\n",
       "      <th>2018</th>\n",
       "      <th>2019</th>\n",
       "      <th>2020</th>\n",
       "    </tr>\n",
       "    <tr>\n",
       "      <th>registration_date</th>\n",
       "      <th></th>\n",
       "      <th></th>\n",
       "      <th></th>\n",
       "      <th></th>\n",
       "    </tr>\n",
       "  </thead>\n",
       "  <tbody>\n",
       "    <tr>\n",
       "      <th>1</th>\n",
       "      <td>406000.0</td>\n",
       "      <td>418000.0</td>\n",
       "      <td>398000.0</td>\n",
       "      <td>405000.0</td>\n",
       "    </tr>\n",
       "    <tr>\n",
       "      <th>2</th>\n",
       "      <td>415000.0</td>\n",
       "      <td>410000.0</td>\n",
       "      <td>396500.0</td>\n",
       "      <td>410000.0</td>\n",
       "    </tr>\n",
       "  </tbody>\n",
       "</table>\n",
       "</div>"
      ],
      "text/plain": [
       "registration_date      2017      2018      2019      2020\n",
       "registration_date                                        \n",
       "1                  406000.0  418000.0  398000.0  405000.0\n",
       "2                  415000.0  410000.0  396500.0  410000.0"
      ]
     },
     "execution_count": 389,
     "metadata": {},
     "output_type": "execute_result"
    }
   ],
   "source": [
    "yearly_trend.head(2)"
   ]
  },
  {
   "cell_type": "code",
   "execution_count": 390,
   "metadata": {
    "scrolled": false
   },
   "outputs": [
    {
     "data": {
      "image/png": "[encoded data removed]",
      "text/plain": [
       "<Figure size 864x432 with 1 Axes>"
      ]
     },
     "metadata": {
      "needs_background": "light"
     },
     "output_type": "display_data"
    }
   ],
   "source": [
    "yearly_trend.plot(figsize=(12,6), xlabel='month', ylabel='resale price', xticks=yearly_trend.index, grid=True)\n",
    "plt.legend(bbox_to_anchor=(1,1))\n",
    "\n",
    "plt.savefig('trend.png')"
   ]
  },
  {
   "cell_type": "code",
   "execution_count": 391,
   "metadata": {},
   "outputs": [],
   "source": [
    "# find the increase in percentage from Jun 2020 to Dec 2020\n",
    "jun = yearly_trend.loc[6, 2020]\n",
    "dec = yearly_trend.loc[12, 2020]"
   ]
  },
  {
   "cell_type": "code",
   "execution_count": 392,
   "metadata": {},
   "outputs": [
    {
     "name": "stdout",
     "output_type": "stream",
     "text": [
      "The percentage change in price between Jun to Dec, 2020: 11.25%\n"
     ]
    }
   ],
   "source": [
    "print('The percentage change in price between Jun to Dec, 2020: '+str(round((dec-jun)/jun*100, 2))+'%')"
   ]
  },
  {
   "cell_type": "markdown",
   "metadata": {},
   "source": [
    "#### The resale price is quite stable throughout until end 2019. Since the start of 2020, the price is picking up constantly. Although there is a drop from May which is during the circuit breaker, the market has bound back from Jun onwards after the end of the circuit breaker. Like we have calculated, it has increase by 11.25%!!!"
   ]
  },
  {
   "cell_type": "markdown",
   "metadata": {},
   "source": [
    "### How is the trend like coming to 2021?"
   ]
  },
  {
   "cell_type": "code",
   "execution_count": 393,
   "metadata": {},
   "outputs": [],
   "source": [
    "# we have keep a copy of Jan 2021 data earlier\n",
    "# groupby index and 'resale_price'\n",
    "df_2021 = df_2021.groupby(df_2021.index)[['resale_price']].median()"
   ]
  },
  {
   "cell_type": "code",
   "execution_count": 394,
   "metadata": {},
   "outputs": [
    {
     "data": {
      "text/html": [
       "<div>\n",
       "<style scoped>\n",
       "    .dataframe tbody tr th:only-of-type {\n",
       "        vertical-align: middle;\n",
       "    }\n",
       "\n",
       "    .dataframe tbody tr th {\n",
       "        vertical-align: top;\n",
       "    }\n",
       "\n",
       "    .dataframe thead th {\n",
       "        text-align: right;\n",
       "    }\n",
       "</style>\n",
       "<table border=\"1\" class=\"dataframe\">\n",
       "  <thead>\n",
       "    <tr style=\"text-align: right;\">\n",
       "      <th></th>\n",
       "      <th>resale_price</th>\n",
       "    </tr>\n",
       "    <tr>\n",
       "      <th>registration_date</th>\n",
       "      <th></th>\n",
       "    </tr>\n",
       "  </thead>\n",
       "  <tbody>\n",
       "    <tr>\n",
       "      <th>2021-01-01</th>\n",
       "      <td>460000.0</td>\n",
       "    </tr>\n",
       "  </tbody>\n",
       "</table>\n",
       "</div>"
      ],
      "text/plain": [
       "                   resale_price\n",
       "registration_date              \n",
       "2021-01-01             460000.0"
      ]
     },
     "execution_count": 394,
     "metadata": {},
     "output_type": "execute_result"
    }
   ],
   "source": [
    "df_2021.head()"
   ]
  },
  {
   "cell_type": "code",
   "execution_count": 395,
   "metadata": {},
   "outputs": [],
   "source": [
    "# get data for 2020\n",
    "df_2020 = df['2020']"
   ]
  },
  {
   "cell_type": "code",
   "execution_count": 396,
   "metadata": {},
   "outputs": [],
   "source": [
    "# groupby index and 'resale_price'\n",
    "df_2020 = df_2020.groupby(df_2020.index)[['resale_price']].median()"
   ]
  },
  {
   "cell_type": "code",
   "execution_count": 397,
   "metadata": {},
   "outputs": [
    {
     "data": {
      "text/html": [
       "<div>\n",
       "<style scoped>\n",
       "    .dataframe tbody tr th:only-of-type {\n",
       "        vertical-align: middle;\n",
       "    }\n",
       "\n",
       "    .dataframe tbody tr th {\n",
       "        vertical-align: top;\n",
       "    }\n",
       "\n",
       "    .dataframe thead th {\n",
       "        text-align: right;\n",
       "    }\n",
       "</style>\n",
       "<table border=\"1\" class=\"dataframe\">\n",
       "  <thead>\n",
       "    <tr style=\"text-align: right;\">\n",
       "      <th></th>\n",
       "      <th>resale_price</th>\n",
       "    </tr>\n",
       "    <tr>\n",
       "      <th>registration_date</th>\n",
       "      <th></th>\n",
       "    </tr>\n",
       "  </thead>\n",
       "  <tbody>\n",
       "    <tr>\n",
       "      <th>2020-01-01</th>\n",
       "      <td>405000.0</td>\n",
       "    </tr>\n",
       "    <tr>\n",
       "      <th>2020-02-01</th>\n",
       "      <td>410000.0</td>\n",
       "    </tr>\n",
       "  </tbody>\n",
       "</table>\n",
       "</div>"
      ],
      "text/plain": [
       "                   resale_price\n",
       "registration_date              \n",
       "2020-01-01             405000.0\n",
       "2020-02-01             410000.0"
      ]
     },
     "execution_count": 397,
     "metadata": {},
     "output_type": "execute_result"
    }
   ],
   "source": [
    "df_2020.head(2)"
   ]
  },
  {
   "cell_type": "code",
   "execution_count": 398,
   "metadata": {},
   "outputs": [],
   "source": [
    "# join df_2020 and df_2021\n",
    "jan20_to_2021 = pd.concat([df_2020, df_2021])"
   ]
  },
  {
   "cell_type": "code",
   "execution_count": 399,
   "metadata": {},
   "outputs": [
    {
     "data": {
      "text/html": [
       "<div>\n",
       "<style scoped>\n",
       "    .dataframe tbody tr th:only-of-type {\n",
       "        vertical-align: middle;\n",
       "    }\n",
       "\n",
       "    .dataframe tbody tr th {\n",
       "        vertical-align: top;\n",
       "    }\n",
       "\n",
       "    .dataframe thead th {\n",
       "        text-align: right;\n",
       "    }\n",
       "</style>\n",
       "<table border=\"1\" class=\"dataframe\">\n",
       "  <thead>\n",
       "    <tr style=\"text-align: right;\">\n",
       "      <th></th>\n",
       "      <th>resale_price</th>\n",
       "    </tr>\n",
       "    <tr>\n",
       "      <th>registration_date</th>\n",
       "      <th></th>\n",
       "    </tr>\n",
       "  </thead>\n",
       "  <tbody>\n",
       "    <tr>\n",
       "      <th>2020-12-01</th>\n",
       "      <td>455000.0</td>\n",
       "    </tr>\n",
       "    <tr>\n",
       "      <th>2021-01-01</th>\n",
       "      <td>460000.0</td>\n",
       "    </tr>\n",
       "  </tbody>\n",
       "</table>\n",
       "</div>"
      ],
      "text/plain": [
       "                   resale_price\n",
       "registration_date              \n",
       "2020-12-01             455000.0\n",
       "2021-01-01             460000.0"
      ]
     },
     "execution_count": 399,
     "metadata": {},
     "output_type": "execute_result"
    }
   ],
   "source": [
    "jan20_to_2021.tail(2)"
   ]
  },
  {
   "cell_type": "code",
   "execution_count": 400,
   "metadata": {
    "scrolled": false
   },
   "outputs": [
    {
     "data": {
      "image/png": "[encoded data removed]",
      "text/plain": [
       "<Figure size 864x432 with 1 Axes>"
      ]
     },
     "metadata": {
      "needs_background": "light"
     },
     "output_type": "display_data"
    }
   ],
   "source": [
    "jan20_to_2021.plot(kind='line', xlabel='month', ylabel='resale price', figsize=(12,6),\n",
    "                   grid=True)\n",
    "\n",
    "plt.show()"
   ]
  },
  {
   "cell_type": "markdown",
   "metadata": {},
   "source": [
    "#### Seem like the price is still going north as it has already increase about $5,000 in Jan 2021."
   ]
  },
  {
   "cell_type": "markdown",
   "metadata": {},
   "source": [
    "### Conclusion:\n",
    "#### The price increase from the start of last year might be due to the current pandemic. The T.O.P of most BTO flat has been delayed due to the pandemic, causing buyer to look at the resale market since the government has enhance some policy like more CPF housing grant, thus causing the price to increase. Unless there is another round of cooling measure introduced, the resale price will likely to continue in the northerly direction."
   ]
  }
 ],
 "metadata": {
  "kernelspec": {
   "display_name": "Python 3",
   "language": "python",
   "name": "python3"
  },
  "language_info": {
   "codemirror_mode": {
    "name": "ipython",
    "version": 3
   },
   "file_extension": ".py",
   "mimetype": "text/x-python",
   "name": "python",
   "nbconvert_exporter": "python",
   "pygments_lexer": "ipython3",
   "version": "3.8.5"
  }
 },
 "nbformat": 4,
 "nbformat_minor": 4
}
