{
 "cells": [
  {
   "cell_type": "markdown",
   "metadata": {},
   "source": [
    "### To get the geolocation of given address and MRT station name from OneMap.sg API"
   ]
  },
  {
   "cell_type": "code",
   "execution_count": 1,
   "metadata": {},
   "outputs": [],
   "source": [
    "import requests\n",
    "import json\n",
    "import pandas as pd"
   ]
  },
  {
   "cell_type": "code",
   "execution_count": 31,
   "metadata": {},
   "outputs": [],
   "source": [
    "df = pd.read_csv('Resale Flat Price.csv')"
   ]
  },
  {
   "cell_type": "code",
   "execution_count": 9,
   "metadata": {},
   "outputs": [],
   "source": [
    "# create a new column 'address' to search for the geolocation\n",
    "df['address'] = df.block + ' ' + df.street_name "
   ]
  },
  {
   "cell_type": "code",
   "execution_count": 10,
   "metadata": {},
   "outputs": [],
   "source": [
    "df.drop(['block', 'street_name'], axis=1, inplace=True)"
   ]
  },
  {
   "cell_type": "code",
   "execution_count": 32,
   "metadata": {},
   "outputs": [
    {
     "data": {
      "text/html": [
       "<div>\n",
       "<style scoped>\n",
       "    .dataframe tbody tr th:only-of-type {\n",
       "        vertical-align: middle;\n",
       "    }\n",
       "\n",
       "    .dataframe tbody tr th {\n",
       "        vertical-align: top;\n",
       "    }\n",
       "\n",
       "    .dataframe thead th {\n",
       "        text-align: right;\n",
       "    }\n",
       "</style>\n",
       "<table border=\"1\" class=\"dataframe\">\n",
       "  <thead>\n",
       "    <tr style=\"text-align: right;\">\n",
       "      <th></th>\n",
       "      <th>month</th>\n",
       "      <th>town</th>\n",
       "      <th>flat_type</th>\n",
       "      <th>block</th>\n",
       "      <th>street_name</th>\n",
       "      <th>storey_range</th>\n",
       "      <th>floor_area_sqm</th>\n",
       "      <th>flat_model</th>\n",
       "      <th>lease_commence_date</th>\n",
       "      <th>remaining_lease</th>\n",
       "      <th>resale_price</th>\n",
       "    </tr>\n",
       "  </thead>\n",
       "  <tbody>\n",
       "    <tr>\n",
       "      <th>90118</th>\n",
       "      <td>2021-01</td>\n",
       "      <td>YISHUN</td>\n",
       "      <td>EXECUTIVE</td>\n",
       "      <td>643</td>\n",
       "      <td>YISHUN ST 61</td>\n",
       "      <td>04 TO 06</td>\n",
       "      <td>146.0</td>\n",
       "      <td>Maisonette</td>\n",
       "      <td>1987</td>\n",
       "      <td>65 years 08 months</td>\n",
       "      <td>590000.0</td>\n",
       "    </tr>\n",
       "    <tr>\n",
       "      <th>90119</th>\n",
       "      <td>2021-01</td>\n",
       "      <td>YISHUN</td>\n",
       "      <td>EXECUTIVE</td>\n",
       "      <td>724</td>\n",
       "      <td>YISHUN ST 71</td>\n",
       "      <td>10 TO 12</td>\n",
       "      <td>146.0</td>\n",
       "      <td>Maisonette</td>\n",
       "      <td>1986</td>\n",
       "      <td>64 years 07 months</td>\n",
       "      <td>588000.0</td>\n",
       "    </tr>\n",
       "    <tr>\n",
       "      <th>90120</th>\n",
       "      <td>2021-01</td>\n",
       "      <td>YISHUN</td>\n",
       "      <td>EXECUTIVE</td>\n",
       "      <td>834</td>\n",
       "      <td>YISHUN ST 81</td>\n",
       "      <td>04 TO 06</td>\n",
       "      <td>142.0</td>\n",
       "      <td>Apartment</td>\n",
       "      <td>1988</td>\n",
       "      <td>66 years</td>\n",
       "      <td>670000.0</td>\n",
       "    </tr>\n",
       "    <tr>\n",
       "      <th>90121</th>\n",
       "      <td>2021-01</td>\n",
       "      <td>YISHUN</td>\n",
       "      <td>EXECUTIVE</td>\n",
       "      <td>877</td>\n",
       "      <td>YISHUN ST 81</td>\n",
       "      <td>07 TO 09</td>\n",
       "      <td>142.0</td>\n",
       "      <td>Apartment</td>\n",
       "      <td>1987</td>\n",
       "      <td>65 years 11 months</td>\n",
       "      <td>690000.0</td>\n",
       "    </tr>\n",
       "    <tr>\n",
       "      <th>90122</th>\n",
       "      <td>2021-01</td>\n",
       "      <td>YISHUN</td>\n",
       "      <td>MULTI-GENERATION</td>\n",
       "      <td>666</td>\n",
       "      <td>YISHUN AVE 4</td>\n",
       "      <td>10 TO 12</td>\n",
       "      <td>179.0</td>\n",
       "      <td>Multi Generation</td>\n",
       "      <td>1987</td>\n",
       "      <td>66 years</td>\n",
       "      <td>860000.0</td>\n",
       "    </tr>\n",
       "  </tbody>\n",
       "</table>\n",
       "</div>"
      ],
      "text/plain": [
       "         month    town         flat_type block   street_name storey_range  \\\n",
       "90118  2021-01  YISHUN         EXECUTIVE   643  YISHUN ST 61     04 TO 06   \n",
       "90119  2021-01  YISHUN         EXECUTIVE   724  YISHUN ST 71     10 TO 12   \n",
       "90120  2021-01  YISHUN         EXECUTIVE   834  YISHUN ST 81     04 TO 06   \n",
       "90121  2021-01  YISHUN         EXECUTIVE   877  YISHUN ST 81     07 TO 09   \n",
       "90122  2021-01  YISHUN  MULTI-GENERATION   666  YISHUN AVE 4     10 TO 12   \n",
       "\n",
       "       floor_area_sqm        flat_model  lease_commence_date  \\\n",
       "90118           146.0        Maisonette                 1987   \n",
       "90119           146.0        Maisonette                 1986   \n",
       "90120           142.0         Apartment                 1988   \n",
       "90121           142.0         Apartment                 1987   \n",
       "90122           179.0  Multi Generation                 1987   \n",
       "\n",
       "          remaining_lease  resale_price  \n",
       "90118  65 years 08 months      590000.0  \n",
       "90119  64 years 07 months      588000.0  \n",
       "90120            66 years      670000.0  \n",
       "90121  65 years 11 months      690000.0  \n",
       "90122            66 years      860000.0  "
      ]
     },
     "execution_count": 32,
     "metadata": {},
     "output_type": "execute_result"
    }
   ],
   "source": [
    "df.tail(2)"
   ]
  },
  {
   "cell_type": "code",
   "execution_count": 11,
   "metadata": {},
   "outputs": [],
   "source": [
    "# since 1 address can have several transaction, we can reduce our search data by using .unique()\n",
    "address = df.address.unique()"
   ]
  },
  {
   "cell_type": "code",
   "execution_count": 11,
   "metadata": {},
   "outputs": [
    {
     "data": {
      "text/plain": [
       "8958"
      ]
     },
     "execution_count": 11,
     "metadata": {},
     "output_type": "execute_result"
    }
   ],
   "source": [
    "len(address)      # we have reduce the data from 90123 to 8958"
   ]
  },
  {
   "cell_type": "code",
   "execution_count": 12,
   "metadata": {},
   "outputs": [
    {
     "data": {
      "text/plain": [
       "array(['406 ANG MO KIO AVE 10', '108 ANG MO KIO AVE 4',\n",
       "       '602 ANG MO KIO AVE 5', ..., '216B COMPASSVALE DR',\n",
       "       '9 JOO SENG RD', '889D WOODLANDS DR 50'], dtype=object)"
      ]
     },
     "execution_count": 12,
     "metadata": {},
     "output_type": "execute_result"
    }
   ],
   "source": [
    "address"
   ]
  },
  {
   "cell_type": "code",
   "execution_count": 13,
   "metadata": {
    "scrolled": false
   },
   "outputs": [
    {
     "ename": "JSONDecodeError",
     "evalue": "Expecting value: line 1 column 1 (char 0)",
     "output_type": "error",
     "traceback": [
      "\u001b[1;31m---------------------------------------------------------------------------\u001b[0m",
      "\u001b[1;31mJSONDecodeError\u001b[0m                           Traceback (most recent call last)",
      "\u001b[1;32m<ipython-input-13-0a51735ad91f>\u001b[0m in \u001b[0;36m<module>\u001b[1;34m\u001b[0m\n\u001b[0;32m      5\u001b[0m     \u001b[0mdata\u001b[0m \u001b[1;33m=\u001b[0m \u001b[0mrequests\u001b[0m\u001b[1;33m.\u001b[0m\u001b[0mget\u001b[0m\u001b[1;33m(\u001b[0m\u001b[0murl\u001b[0m\u001b[1;33m)\u001b[0m\u001b[1;33m.\u001b[0m\u001b[0mtext\u001b[0m\u001b[1;33m\u001b[0m\u001b[1;33m\u001b[0m\u001b[0m\n\u001b[0;32m      6\u001b[0m \u001b[1;31m#     if len(data) != 0:\u001b[0m\u001b[1;33m\u001b[0m\u001b[1;33m\u001b[0m\u001b[1;33m\u001b[0m\u001b[0m\n\u001b[1;32m----> 7\u001b[1;33m     \u001b[0mdata\u001b[0m \u001b[1;33m=\u001b[0m \u001b[0mjson\u001b[0m\u001b[1;33m.\u001b[0m\u001b[0mloads\u001b[0m\u001b[1;33m(\u001b[0m\u001b[0mdata\u001b[0m\u001b[1;33m)\u001b[0m\u001b[1;33m\u001b[0m\u001b[1;33m\u001b[0m\u001b[0m\n\u001b[0m\u001b[0;32m      8\u001b[0m     \u001b[0mresult\u001b[0m \u001b[1;33m=\u001b[0m \u001b[0mdata\u001b[0m\u001b[1;33m[\u001b[0m\u001b[1;34m'results'\u001b[0m\u001b[1;33m]\u001b[0m\u001b[1;33m\u001b[0m\u001b[1;33m\u001b[0m\u001b[0m\n\u001b[0;32m      9\u001b[0m     \u001b[1;32mif\u001b[0m \u001b[0mlen\u001b[0m\u001b[1;33m(\u001b[0m\u001b[0mresult\u001b[0m\u001b[1;33m)\u001b[0m \u001b[1;33m>=\u001b[0m \u001b[1;36m1\u001b[0m\u001b[1;33m:\u001b[0m\u001b[1;33m\u001b[0m\u001b[1;33m\u001b[0m\u001b[0m\n",
      "\u001b[1;32m~\\anaconda3\\lib\\json\\__init__.py\u001b[0m in \u001b[0;36mloads\u001b[1;34m(s, cls, object_hook, parse_float, parse_int, parse_constant, object_pairs_hook, **kw)\u001b[0m\n\u001b[0;32m    355\u001b[0m             \u001b[0mparse_int\u001b[0m \u001b[1;32mis\u001b[0m \u001b[1;32mNone\u001b[0m \u001b[1;32mand\u001b[0m \u001b[0mparse_float\u001b[0m \u001b[1;32mis\u001b[0m \u001b[1;32mNone\u001b[0m \u001b[1;32mand\u001b[0m\u001b[1;33m\u001b[0m\u001b[1;33m\u001b[0m\u001b[0m\n\u001b[0;32m    356\u001b[0m             parse_constant is None and object_pairs_hook is None and not kw):\n\u001b[1;32m--> 357\u001b[1;33m         \u001b[1;32mreturn\u001b[0m \u001b[0m_default_decoder\u001b[0m\u001b[1;33m.\u001b[0m\u001b[0mdecode\u001b[0m\u001b[1;33m(\u001b[0m\u001b[0ms\u001b[0m\u001b[1;33m)\u001b[0m\u001b[1;33m\u001b[0m\u001b[1;33m\u001b[0m\u001b[0m\n\u001b[0m\u001b[0;32m    358\u001b[0m     \u001b[1;32mif\u001b[0m \u001b[0mcls\u001b[0m \u001b[1;32mis\u001b[0m \u001b[1;32mNone\u001b[0m\u001b[1;33m:\u001b[0m\u001b[1;33m\u001b[0m\u001b[1;33m\u001b[0m\u001b[0m\n\u001b[0;32m    359\u001b[0m         \u001b[0mcls\u001b[0m \u001b[1;33m=\u001b[0m \u001b[0mJSONDecoder\u001b[0m\u001b[1;33m\u001b[0m\u001b[1;33m\u001b[0m\u001b[0m\n",
      "\u001b[1;32m~\\anaconda3\\lib\\json\\decoder.py\u001b[0m in \u001b[0;36mdecode\u001b[1;34m(self, s, _w)\u001b[0m\n\u001b[0;32m    335\u001b[0m \u001b[1;33m\u001b[0m\u001b[0m\n\u001b[0;32m    336\u001b[0m         \"\"\"\n\u001b[1;32m--> 337\u001b[1;33m         \u001b[0mobj\u001b[0m\u001b[1;33m,\u001b[0m \u001b[0mend\u001b[0m \u001b[1;33m=\u001b[0m \u001b[0mself\u001b[0m\u001b[1;33m.\u001b[0m\u001b[0mraw_decode\u001b[0m\u001b[1;33m(\u001b[0m\u001b[0ms\u001b[0m\u001b[1;33m,\u001b[0m \u001b[0midx\u001b[0m\u001b[1;33m=\u001b[0m\u001b[0m_w\u001b[0m\u001b[1;33m(\u001b[0m\u001b[0ms\u001b[0m\u001b[1;33m,\u001b[0m \u001b[1;36m0\u001b[0m\u001b[1;33m)\u001b[0m\u001b[1;33m.\u001b[0m\u001b[0mend\u001b[0m\u001b[1;33m(\u001b[0m\u001b[1;33m)\u001b[0m\u001b[1;33m)\u001b[0m\u001b[1;33m\u001b[0m\u001b[1;33m\u001b[0m\u001b[0m\n\u001b[0m\u001b[0;32m    338\u001b[0m         \u001b[0mend\u001b[0m \u001b[1;33m=\u001b[0m \u001b[0m_w\u001b[0m\u001b[1;33m(\u001b[0m\u001b[0ms\u001b[0m\u001b[1;33m,\u001b[0m \u001b[0mend\u001b[0m\u001b[1;33m)\u001b[0m\u001b[1;33m.\u001b[0m\u001b[0mend\u001b[0m\u001b[1;33m(\u001b[0m\u001b[1;33m)\u001b[0m\u001b[1;33m\u001b[0m\u001b[1;33m\u001b[0m\u001b[0m\n\u001b[0;32m    339\u001b[0m         \u001b[1;32mif\u001b[0m \u001b[0mend\u001b[0m \u001b[1;33m!=\u001b[0m \u001b[0mlen\u001b[0m\u001b[1;33m(\u001b[0m\u001b[0ms\u001b[0m\u001b[1;33m)\u001b[0m\u001b[1;33m:\u001b[0m\u001b[1;33m\u001b[0m\u001b[1;33m\u001b[0m\u001b[0m\n",
      "\u001b[1;32m~\\anaconda3\\lib\\json\\decoder.py\u001b[0m in \u001b[0;36mraw_decode\u001b[1;34m(self, s, idx)\u001b[0m\n\u001b[0;32m    353\u001b[0m             \u001b[0mobj\u001b[0m\u001b[1;33m,\u001b[0m \u001b[0mend\u001b[0m \u001b[1;33m=\u001b[0m \u001b[0mself\u001b[0m\u001b[1;33m.\u001b[0m\u001b[0mscan_once\u001b[0m\u001b[1;33m(\u001b[0m\u001b[0ms\u001b[0m\u001b[1;33m,\u001b[0m \u001b[0midx\u001b[0m\u001b[1;33m)\u001b[0m\u001b[1;33m\u001b[0m\u001b[1;33m\u001b[0m\u001b[0m\n\u001b[0;32m    354\u001b[0m         \u001b[1;32mexcept\u001b[0m \u001b[0mStopIteration\u001b[0m \u001b[1;32mas\u001b[0m \u001b[0merr\u001b[0m\u001b[1;33m:\u001b[0m\u001b[1;33m\u001b[0m\u001b[1;33m\u001b[0m\u001b[0m\n\u001b[1;32m--> 355\u001b[1;33m             \u001b[1;32mraise\u001b[0m \u001b[0mJSONDecodeError\u001b[0m\u001b[1;33m(\u001b[0m\u001b[1;34m\"Expecting value\"\u001b[0m\u001b[1;33m,\u001b[0m \u001b[0ms\u001b[0m\u001b[1;33m,\u001b[0m \u001b[0merr\u001b[0m\u001b[1;33m.\u001b[0m\u001b[0mvalue\u001b[0m\u001b[1;33m)\u001b[0m \u001b[1;32mfrom\u001b[0m \u001b[1;32mNone\u001b[0m\u001b[1;33m\u001b[0m\u001b[1;33m\u001b[0m\u001b[0m\n\u001b[0m\u001b[0;32m    356\u001b[0m         \u001b[1;32mreturn\u001b[0m \u001b[0mobj\u001b[0m\u001b[1;33m,\u001b[0m \u001b[0mend\u001b[0m\u001b[1;33m\u001b[0m\u001b[1;33m\u001b[0m\u001b[0m\n",
      "\u001b[1;31mJSONDecodeError\u001b[0m: Expecting value: line 1 column 1 (char 0)"
     ]
    }
   ],
   "source": [
    "# get the address geolocation from OneMap.sg API\n",
    "latitude = []\n",
    "longtitude = []\n",
    "for item in address:\n",
    "    url='https://developers.onemap.sg/commonapi/search?searchVal='+item+'&returnGeom=Y&getAddrDetails=Y&pageNum=1'\n",
    "    data = requests.get(url).text\n",
    "    if len(data) != 0: \n",
    "        data = json.loads(data) \n",
    "        result = data['results']\n",
    "    if len(result) >= 1:\n",
    "        latitude.append(result[0]['LATITUDE'])\n",
    "        longtitude.append(result[0]['LONGTITUDE'])\n",
    "    else:\n",
    "        latitude.append(0)\n",
    "        longtitude.append(0)"
   ]
  },
  {
   "cell_type": "code",
   "execution_count": null,
   "metadata": {},
   "outputs": [],
   "source": [
    "# check if we get all the address geolocation\n",
    "print('Latitude:', len(latitude), '\\nLongtitude:', len(longtitude))"
   ]
  },
  {
   "cell_type": "code",
   "execution_count": 19,
   "metadata": {},
   "outputs": [],
   "source": [
    "# convert the address geolocation to a dataframe\n",
    "geolocation = pd.DataFrame({'address':address, 'latitude':latitude, 'longtitude':longtitude})"
   ]
  },
  {
   "cell_type": "code",
   "execution_count": 22,
   "metadata": {},
   "outputs": [
    {
     "data": {
      "text/html": [
       "<div>\n",
       "<style scoped>\n",
       "    .dataframe tbody tr th:only-of-type {\n",
       "        vertical-align: middle;\n",
       "    }\n",
       "\n",
       "    .dataframe tbody tr th {\n",
       "        vertical-align: top;\n",
       "    }\n",
       "\n",
       "    .dataframe thead th {\n",
       "        text-align: right;\n",
       "    }\n",
       "</style>\n",
       "<table border=\"1\" class=\"dataframe\">\n",
       "  <thead>\n",
       "    <tr style=\"text-align: right;\">\n",
       "      <th></th>\n",
       "      <th>address</th>\n",
       "      <th>latitude</th>\n",
       "      <th>longtitude</th>\n",
       "    </tr>\n",
       "  </thead>\n",
       "  <tbody>\n",
       "    <tr>\n",
       "      <th>0</th>\n",
       "      <td>406 ANG MO KIO AVE 10</td>\n",
       "      <td>1.36200453938712</td>\n",
       "      <td>103.853879910407</td>\n",
       "    </tr>\n",
       "    <tr>\n",
       "      <th>1</th>\n",
       "      <td>108 ANG MO KIO AVE 4</td>\n",
       "      <td>1.37094273993858</td>\n",
       "      <td>103.837974822369</td>\n",
       "    </tr>\n",
       "    <tr>\n",
       "      <th>2</th>\n",
       "      <td>602 ANG MO KIO AVE 5</td>\n",
       "      <td>1.38070883044889</td>\n",
       "      <td>103.835368226602</td>\n",
       "    </tr>\n",
       "    <tr>\n",
       "      <th>3</th>\n",
       "      <td>465 ANG MO KIO AVE 10</td>\n",
       "      <td>1.36620104082939</td>\n",
       "      <td>103.857200967235</td>\n",
       "    </tr>\n",
       "    <tr>\n",
       "      <th>4</th>\n",
       "      <td>601 ANG MO KIO AVE 5</td>\n",
       "      <td>1.38104134784496</td>\n",
       "      <td>103.835131744823</td>\n",
       "    </tr>\n",
       "  </tbody>\n",
       "</table>\n",
       "</div>"
      ],
      "text/plain": [
       "                 address          latitude        longtitude\n",
       "0  406 ANG MO KIO AVE 10  1.36200453938712  103.853879910407\n",
       "1   108 ANG MO KIO AVE 4  1.37094273993858  103.837974822369\n",
       "2   602 ANG MO KIO AVE 5  1.38070883044889  103.835368226602\n",
       "3  465 ANG MO KIO AVE 10  1.36620104082939  103.857200967235\n",
       "4   601 ANG MO KIO AVE 5  1.38104134784496  103.835131744823"
      ]
     },
     "execution_count": 22,
     "metadata": {},
     "output_type": "execute_result"
    }
   ],
   "source": [
    "geolocation.head(2)"
   ]
  },
  {
   "cell_type": "code",
   "execution_count": 31,
   "metadata": {},
   "outputs": [],
   "source": [
    "# save the dataframe\n",
    "geolocation.to_csv('geolocation.csv')"
   ]
  },
  {
   "cell_type": "code",
   "execution_count": 33,
   "metadata": {},
   "outputs": [],
   "source": [
    "# create a list of MRT station\n",
    "mrt = [\n",
    "    'Jurong East MRT Station',\n",
    "    'Bukit Batok MRT Station',\n",
    "    'Bukit Gombak MRT Station',\n",
    "    'Choa Chu Kang MRT Station',\n",
    "    'Yew Tee MRT Station',\n",
    "    'Kranji MRT Station',\n",
    "    'Marsiling MRT Station',\n",
    "    'Woodlands MRT Station',\n",
    "    'Admiralty MRT Station',\n",
    "    'Sembawang MRT Station',\n",
    "    'Canberra MRT Station',\n",
    "    'Yishun MRT Station',\n",
    "    'Khatib MRT Station',\n",
    "    'Yio Chu Kang MRT Station',\n",
    "    'Ang Mo Kio MRT Station',\n",
    "    'Bishan MRT Station',\n",
    "    'Braddell MRT Station',\n",
    "    'Toa Payoh MRT Station',\n",
    "    'Novena MRT Station',\n",
    "    'Newton MRT Station',\n",
    "    'Orchard MRT Station',\n",
    "    'Somerset MRT Station',\n",
    "    'Dhoby Ghaut MRT Station',\n",
    "    'City Hall MRT Station',\n",
    "    'Raffles Place MRT Station',\n",
    "    'Marina Bay MRT Station',\n",
    "    'Marina South Pier MRT Station',\n",
    "    'Pasir Ris MRT Station',\n",
    "    'Tampines MRT Station',\n",
    "    'Simei MRT Station',\n",
    "    'Tanah Merah MRT Station',\n",
    "    'Bedok MRT Station',\n",
    "    'Kembangan MRT Station',\n",
    "    'Eunos MRT Station',\n",
    "    'Paya Lebar MRT Station',\n",
    "    'Aljunied MRT Station',\n",
    "    'Kallang MRT Station',\n",
    "    'Lavender MRT Station',\n",
    "    'Bugis MRT Station',\n",
    "    'Tanjong Pagar MRT Station',\n",
    "    'Outram Park MRT Station',\n",
    "    'Tiong Bahru MRT Station',\n",
    "    'Redhill MRT Station',\n",
    "    'Queenstown MRT Station',\n",
    "    'Commonwealth MRT Station',\n",
    "    'Buona Vista MRT Station',\n",
    "    'Dover MRT Station',\n",
    "    'Clementi MRT Station',\n",
    "    'Chinese Garden MRT Station',\n",
    "    'Lakeside MRT Station',\n",
    "    'Boon Lay MRT Station',\n",
    "    'Pioneer MRT Station',\n",
    "    'Joo Koon MRT Station',\n",
    "    'Gul Circle MRT Station',\n",
    "    'Tuas Crescent MRT Station',\n",
    "    'Tuas West Road MRT Station',\n",
    "    'Tuas Link MRT Station',\n",
    "    'Expo MRT Station',\n",
    "    'Changi Airport MRT Station',\n",
    "    'HarbourFront MRT Station',\n",
    "    'Chinatown MRT Station',\n",
    "    'Clarke Quay MRT Station',\n",
    "    'Little India MRT Station',\n",
    "    'Farrer Park MRT Station',\n",
    "    'Boon Keng MRT Station',\n",
    "    'Potong Pasir MRT Station',\n",
    "    'Woodleigh MRT Station',\n",
    "    'Serangoon MRT Station',\n",
    "    'Kovan MRT Station',\n",
    "    'Hougang MRT Station',\n",
    "    'Buangkok MRT Station',\n",
    "    'Sengkang MRT Station',\n",
    "    'Punggol MRT Station',\n",
    "    'Bras Basah MRT Station',\n",
    "    'Esplanade MRT Station',\n",
    "    'Promenade MRT Station',\n",
    "    'Nicoll Highway MRT Station',\n",
    "    'Stadium MRT Station',\n",
    "    'Mountbatten MRT Station',\n",
    "    'Dakota MRT Station',\n",
    "    'MacPherson MRT Station',\n",
    "    'Tai Seng MRT Station',\n",
    "    'Bartley MRT Station',\n",
    "    'Lorong Chuan MRT Station',\n",
    "    'Marymount MRT Station',\n",
    "    'Caldecott MRT Station',\n",
    "    'Botanic Gardens MRT Station',\n",
    "    'Farrer Road MRT Station',\n",
    "    'Holland Village MRT Station',\n",
    "    'one-north MRT Station',\n",
    "    'Kent Ridge MRT Station',\n",
    "    'Haw Par Villa MRT Station',\n",
    "    'Pasir Panjang MRT Station',\n",
    "    'Labrador Park MRT Station',\n",
    "    'Telok Blangah MRT Station',\n",
    "    'Bayfront MRT Station',\n",
    "    'Bukit Panjang MRT Station',\n",
    "    'Cashew MRT Station',\n",
    "    'Hillview MRT Station',\n",
    "    'Beauty World MRT Station',\n",
    "    'King Albert Park MRT Station',\n",
    "    'Sixth Avenue MRT Station',\n",
    "    'Tan Kah Kee MRT Station',\n",
    "    'Stevens MRT Station',\n",
    "    'Rochor MRT Station',\n",
    "    'Downtown MRT Station',\n",
    "    'Telok Ayer MRT Station',\n",
    "    'Fort Canning MRT Station',\n",
    "    'Bencoolen MRT Station',\n",
    "    'Jalan Besar MRT Station',\n",
    "    'Bendemeer MRT Station',\n",
    "    'Geylang Bahru MRT Station',\n",
    "    'Mattar MRT Station',\n",
    "    'Ubi MRT Station',\n",
    "    'Kaki Bukit MRT Station',\n",
    "    'Bedok North MRT Station',\n",
    "    'Bedok Reservoir MRT Station',\n",
    "    'Tampines West MRT Station',\n",
    "    'Tampines East MRT Station',\n",
    "    'Upper Changi MRT Station'\n",
    "]"
   ]
  },
  {
   "cell_type": "code",
   "execution_count": 34,
   "metadata": {},
   "outputs": [],
   "source": [
    "# get the MRT station geolocation from OneMap.sg API\n",
    "latitude = []\n",
    "longtitude = []\n",
    "for item in mrt:\n",
    "    url='https://developers.onemap.sg/commonapi/search?searchVal='+item+'&returnGeom=Y&getAddrDetails=Y&pageNum=1'\n",
    "    data = requests.get(url).text \n",
    "    if len(data) != 0:\n",
    "        data = json.loads(data) \n",
    "        result = data['results']\n",
    "    if len(result) >= 1:\n",
    "        latitude.append(result[0]['LATITUDE'])\n",
    "        longtitude.append(result[0]['LONGTITUDE'])\n",
    "    else:\n",
    "        latitude.append(0)\n",
    "        longtitude.append(0)\n",
    "len(mrt)"
   ]
  },
  {
   "cell_type": "code",
   "execution_count": null,
   "metadata": {},
   "outputs": [],
   "source": [
    "# check if we get all the MRT station geolocation\n",
    "print('Latitude:', len(latitude), '\\nLongtitude:', len(longtitude))"
   ]
  },
  {
   "cell_type": "code",
   "execution_count": 40,
   "metadata": {
    "scrolled": false
   },
   "outputs": [],
   "source": [
    "# convert the mrt geolocation to a dataframe\n",
    "mrt_station = pd.DataFrame({'mrt_station':mrt, 'latitude':latitude, 'longtitude':longtitude})"
   ]
  },
  {
   "cell_type": "code",
   "execution_count": 41,
   "metadata": {},
   "outputs": [
    {
     "data": {
      "text/html": [
       "<div>\n",
       "<style scoped>\n",
       "    .dataframe tbody tr th:only-of-type {\n",
       "        vertical-align: middle;\n",
       "    }\n",
       "\n",
       "    .dataframe tbody tr th {\n",
       "        vertical-align: top;\n",
       "    }\n",
       "\n",
       "    .dataframe thead th {\n",
       "        text-align: right;\n",
       "    }\n",
       "</style>\n",
       "<table border=\"1\" class=\"dataframe\">\n",
       "  <thead>\n",
       "    <tr style=\"text-align: right;\">\n",
       "      <th></th>\n",
       "      <th>mrt_station</th>\n",
       "      <th>latitude</th>\n",
       "      <th>longtitude</th>\n",
       "    </tr>\n",
       "  </thead>\n",
       "  <tbody>\n",
       "    <tr>\n",
       "      <th>0</th>\n",
       "      <td>Jurong East MRT Station</td>\n",
       "      <td>1.33357652289465</td>\n",
       "      <td>103.742292350324</td>\n",
       "    </tr>\n",
       "    <tr>\n",
       "      <th>1</th>\n",
       "      <td>Bukit Batok MRT Station</td>\n",
       "      <td>1.34842377665437</td>\n",
       "      <td>103.749126361849</td>\n",
       "    </tr>\n",
       "    <tr>\n",
       "      <th>2</th>\n",
       "      <td>Bukit Gombak MRT Station</td>\n",
       "      <td>1.35930937732431</td>\n",
       "      <td>103.751948590322</td>\n",
       "    </tr>\n",
       "    <tr>\n",
       "      <th>3</th>\n",
       "      <td>Choa Chu Kang MRT Station</td>\n",
       "      <td>1.38575650064861</td>\n",
       "      <td>103.744509334035</td>\n",
       "    </tr>\n",
       "    <tr>\n",
       "      <th>4</th>\n",
       "      <td>Yew Tee MRT Station</td>\n",
       "      <td>1.39753506936297</td>\n",
       "      <td>103.747405150236</td>\n",
       "    </tr>\n",
       "  </tbody>\n",
       "</table>\n",
       "</div>"
      ],
      "text/plain": [
       "                 mrt_station          latitude        longtitude\n",
       "0    Jurong East MRT Station  1.33357652289465  103.742292350324\n",
       "1    Bukit Batok MRT Station  1.34842377665437  103.749126361849\n",
       "2   Bukit Gombak MRT Station  1.35930937732431  103.751948590322\n",
       "3  Choa Chu Kang MRT Station  1.38575650064861  103.744509334035\n",
       "4        Yew Tee MRT Station  1.39753506936297  103.747405150236"
      ]
     },
     "execution_count": 41,
     "metadata": {},
     "output_type": "execute_result"
    }
   ],
   "source": [
    "mrt_station.head(2)"
   ]
  },
  {
   "cell_type": "code",
   "execution_count": 44,
   "metadata": {},
   "outputs": [],
   "source": [
    "# save the dataframe\n",
    "mrt_station.to_csv('mrt_station.csv')"
   ]
  }
 ],
 "metadata": {
  "kernelspec": {
   "display_name": "Python 3",
   "language": "python",
   "name": "python3"
  },
  "language_info": {
   "codemirror_mode": {
    "name": "ipython",
    "version": 3
   },
   "file_extension": ".py",
   "mimetype": "text/x-python",
   "name": "python",
   "nbconvert_exporter": "python",
   "pygments_lexer": "ipython3",
   "version": "3.8.5"
  }
 },
 "nbformat": 4,
 "nbformat_minor": 4
}
